{
 "cells": [
  {
   "cell_type": "markdown",
   "metadata": {},
   "source": [
    "# COBAR Project \n",
    "\n",
    "Authors: Célia Benquet, Artur Jesslen & Léa Schmidt"
   ]
  },
  {
   "cell_type": "code",
   "execution_count": null,
   "metadata": {},
   "outputs": [],
   "source": [
    "import pickle\n",
    "import numpy as np\n",
    "import matplotlib.pyplot as plt\n",
    "import pandas as pd \n",
    "import seaborn as sns"
   ]
  },
  {
   "cell_type": "code",
   "execution_count": null,
   "metadata": {},
   "outputs": [],
   "source": [
    "pd.set_option('mode.chained_assignment', None)\n",
    "import warnings\n",
    "import matplotlib.cbook\n",
    "warnings.filterwarnings(\"ignore\",category=matplotlib.cbook.mplDeprecation)"
   ]
  },
  {
   "cell_type": "markdown",
   "metadata": {},
   "source": [
    "## 1. Load the data "
   ]
  },
  {
   "cell_type": "code",
   "execution_count": null,
   "metadata": {},
   "outputs": [],
   "source": [
    "\n",
    "path_MDN = 'data/MDN/U3_f'\n",
    "with open(path_MDN + '/MDN_U3_f_trackingData.pkl', 'rb') as f: \n",
    "    data_MDN = pickle.load(f)\n",
    "    \n",
    "path_SS = 'data/SS01540/U3_f'\n",
    "with open(path_SS + '/SS01540_U3_f_trackingData.pkl', 'rb') as f: \n",
    "    data_SS = pickle.load(f)\n",
    "    \n",
    "path_PR = 'data/PR/U3_f'\n",
    "with open(path_PR + '/PR_U3_f_trackingData.pkl', 'rb') as f: \n",
    "    data_PR = pickle.load(f)"
   ]
  },
  {
   "cell_type": "code",
   "execution_count": null,
   "metadata": {},
   "outputs": [],
   "source": [
    "data_MDN.head()"
   ]
  },
  {
   "cell_type": "code",
   "execution_count": null,
   "metadata": {},
   "outputs": [],
   "source": [
    "data_SS.head()"
   ]
  },
  {
   "cell_type": "code",
   "execution_count": null,
   "metadata": {},
   "outputs": [],
   "source": [
    "data_PR.head()"
   ]
  },
  {
   "cell_type": "markdown",
   "metadata": {},
   "source": [
    "## Part III: A deep study of behaviors driven by activation of specific DNs"
   ]
  },
  {
   "cell_type": "markdown",
   "metadata": {},
   "source": [
    "### 2. Analysis using the DeepLabCut joint position\n",
    "\n",
    "#### a. MDN data-set"
   ]
  },
  {
   "cell_type": "markdown",
   "metadata": {},
   "source": [
    "We will plot the kinematics over time of the six pretarsus (aka. claws) of the flies. "
   ]
  },
  {
   "cell_type": "code",
   "execution_count": null,
   "metadata": {},
   "outputs": [],
   "source": [
    "#copy of the data-set to be able to modify\n",
    "data_joint = data_MDN.copy()\n",
    "#remove index to access them \n",
    "data_joint = data_joint.reset_index()\n",
    "data_joint.head()"
   ]
  },
  {
   "cell_type": "code",
   "execution_count": null,
   "metadata": {},
   "outputs": [],
   "source": [
    "def get_single_coord(claw, data_joint, stage1=None, stage2=None):\n",
    "    \"\"\"\"\"\n",
    "    get x and y coordonates for each flies\n",
    "    \"\"\"\"\"\n",
    "    \n",
    "    data_claw=data_joint[['exp_stage','fly',claw]]\n",
    "    \n",
    "    #data_claw = data_claw[(data_claw['exp_stage']==stage1) or ((data_claw['exp_stage']==stage2))]\n",
    "    \n",
    "    data_claw_0 = data_claw[(data_claw['fly']==0)]\n",
    "    x0 = data_claw_0[claw,'x']\n",
    "    y0 = data_claw_0[claw,'y']\n",
    "\n",
    "    data_claw_1 = data_claw[data_claw['fly']==1]\n",
    "    x1 = data_claw_1[claw,'x']\n",
    "    y1 = data_claw_1[claw,'y']\n",
    "\n",
    "    data_claw_2 = data_claw[data_claw['fly']==2]\n",
    "    x2 = data_claw_2[claw,'x']\n",
    "    y2 = data_claw_2[claw,'y']\n",
    "\n",
    "    return x0,y0,x1,y1,x2,y2"
   ]
  },
  {
   "cell_type": "code",
   "execution_count": null,
   "metadata": {},
   "outputs": [],
   "source": [
    "def display_claw(claw, data_joint, color, start, end): \n",
    "    \"\"\"\"\"\n",
    "    claw = the current leg \n",
    "    start, end: to be able to plot displacement for a given window of time\n",
    "    start = starting frame from 0 to 9590 \n",
    "    end = ending frame from 0 to 9590\n",
    "    for each fly, we get the coordonates using 'get_single_coord' \n",
    "    then plot displacement (x then y) for each fly for current leg \n",
    "    \"\"\"\"\"\n",
    "    \n",
    "    x0,y0,x1,y1,x2,y2 = get_single_coord(claw, data_joint)\n",
    "    time = range(start, end)\n",
    "    \n",
    "    #x position \n",
    "    plt.subplot(231) \n",
    "    plt.plot(x0[start:end], time, color=color, label=claw, linewidth=0.7)\n",
    "    plt.ylabel(\"time\")\n",
    "    plt.xlabel(\"x-position\")\n",
    "    plt.title(\"x-position for fly 0\")\n",
    "    plt.xlim((0,120))\n",
    "    plt.legend()\n",
    "\n",
    "    plt.subplot(232)\n",
    "    plt.plot(x1[start:end], time, color=color, label=claw, linewidth=0.7)\n",
    "    plt.ylabel(\"time\")\n",
    "    plt.xlabel(\"x-position\")\n",
    "    plt.title(\"x-position for fly 1\")\n",
    "    plt.xlim((0,120))\n",
    "    plt.legend()\n",
    "\n",
    "    plt.subplot(233)\n",
    "    plt.plot(x2[start:end], time, color=color, label=claw, linewidth=0.7)\n",
    "    plt.ylabel(\"time\")\n",
    "    plt.xlabel(\"x-position\")\n",
    "    plt.title(\"x-position for fly 2\")\n",
    "    plt.xlim((0,120))\n",
    "    plt.legend()\n",
    "\n",
    "    #y position \n",
    "    plt.subplot(234) \n",
    "    plt.plot(time, y0[start:end], color=color, label=claw, linewidth=0.7)\n",
    "    plt.xlabel(\"time\")\n",
    "    plt.ylabel(\"y-position\")\n",
    "    plt.title(\"y-position for fly 0\")\n",
    "    plt.ylim((0,120))\n",
    "    plt.legend()\n",
    "\n",
    "    plt.subplot(235)\n",
    "    plt.plot(time, y1[start:end], color=color, label=claw, linewidth=0.7)\n",
    "    plt.xlabel(\"time\")\n",
    "    plt.ylabel(\"y-position\")\n",
    "    plt.title(\"y-position for fly 1\")\n",
    "    plt.ylim((0,120))\n",
    "    plt.legend()\n",
    "\n",
    "    plt.subplot(236)\n",
    "    plt.plot(time, y2[start:end], color=color, label=claw, linewidth=0.7)\n",
    "    plt.xlabel(\"time\")\n",
    "    plt.ylabel(\"y-position\")\n",
    "    plt.title(\"y-position for fly 2\")\n",
    "    plt.ylim((0,120))\n",
    "    plt.legend()\n"
   ]
  },
  {
   "cell_type": "code",
   "execution_count": null,
   "metadata": {},
   "outputs": [],
   "source": [
    "#display displacement for the all set of experiments \n",
    "start=0\n",
    "end=9590\n",
    "\n",
    "plt.figure(figsize=(20, 10))\n",
    "\n",
    "#left set of legs \n",
    "display_claw('LFclaw', data_joint, 'r', start,end)\n",
    "display_claw('LMclaw', data_joint, 'g', start,end)\n",
    "display_claw('LHclaw', data_joint, 'b', start,end)\n",
    "\n",
    "#right set of legs \n",
    "display_claw('RFclaw', data_joint, 'c', start,end)\n",
    "display_claw('RMclaw', data_joint, 'm', start,end)\n",
    "display_claw('RHclaw', data_joint, 'y', start,end)\n",
    "\n",
    "plt.show()"
   ]
  },
  {
   "cell_type": "code",
   "execution_count": null,
   "metadata": {},
   "outputs": [],
   "source": [
    "#display for an on-simulation \n",
    "#duration = 240 frames = 3sec \n",
    "start=0\n",
    "end=240\n",
    "\n",
    "plt.figure(figsize=(20, 10))\n",
    "\n",
    "#left set of legs \n",
    "display_claw('LFclaw', data_joint, 'r', start,end)\n",
    "display_claw('LMclaw', data_joint, 'g', start,end)\n",
    "display_claw('LHclaw', data_joint, 'b', start,end)\n",
    "\n",
    "#right set of legs \n",
    "display_claw('RFclaw', data_joint, 'c', start,end)\n",
    "display_claw('RMclaw', data_joint, 'm', start,end)\n",
    "display_claw('RHclaw', data_joint, 'y', start,end)\n",
    "\n",
    "plt.show()"
   ]
  },
  {
   "cell_type": "code",
   "execution_count": null,
   "metadata": {},
   "outputs": [],
   "source": [
    "#plot for an off-simulation \n",
    "#duration = 800 frames = 10sec \n",
    "start=240\n",
    "end=1040\n",
    "\n",
    "plt.figure(figsize=(20, 10))\n",
    "\n",
    "#left set of legs \n",
    "display_claw('LFclaw', data_joint, 'r', start,end)\n",
    "display_claw('LMclaw', data_joint, 'g', start,end)\n",
    "display_claw('LHclaw', data_joint, 'b', start,end)\n",
    "\n",
    "#right set of legs \n",
    "display_claw('RFclaw', data_joint, 'c', start,end)\n",
    "display_claw('RMclaw', data_joint, 'm', start,end)\n",
    "display_claw('RHclaw', data_joint, 'y', start,end)\n",
    "\n",
    "plt.show()"
   ]
  },
  {
   "cell_type": "code",
   "execution_count": null,
   "metadata": {},
   "outputs": [],
   "source": []
  },
  {
   "cell_type": "code",
   "execution_count": null,
   "metadata": {},
   "outputs": [],
   "source": []
  },
  {
   "cell_type": "code",
   "execution_count": null,
   "metadata": {},
   "outputs": [],
   "source": []
  },
  {
   "cell_type": "code",
   "execution_count": null,
   "metadata": {},
   "outputs": [],
   "source": [
    "plt.plot(x0,y0,color='r', label='Fly 0')\n",
    "plt.plot(x1,y1,color='b', label='Fly 1')\n",
    "plt.plot(x2,y2,color='g', label='Fly 2')\n",
    "\n",
    "plt.xlabel(\"x-position\")\n",
    "plt.ylabel(\"y-position\")\n",
    "plt.title(\"Position for left front leg\")\n",
    "plt.legend()\n",
    "plt.grid()"
   ]
  },
  {
   "cell_type": "code",
   "execution_count": null,
   "metadata": {},
   "outputs": [],
   "source": [
    "#velocity \n",
    "lf_claw_0['LFclaw', 'dist'] = np.sqrt(lf_claw_0['LFclaw','x'].pow(2) + lf_claw_0['LFclaw','y'].pow(2))"
   ]
  },
  {
   "cell_type": "code",
   "execution_count": null,
   "metadata": {},
   "outputs": [],
   "source": [
    "lf_claw_0.head()"
   ]
  },
  {
   "cell_type": "code",
   "execution_count": null,
   "metadata": {},
   "outputs": [],
   "source": [
    "interval=1/80\n",
    "lf_claw_0['LFclaw', 'speed'] = lf_claw_0['LFclaw', 'dist'] / interval"
   ]
  },
  {
   "cell_type": "code",
   "execution_count": null,
   "metadata": {},
   "outputs": [],
   "source": [
    "lf_claw_0"
   ]
  },
  {
   "cell_type": "code",
   "execution_count": null,
   "metadata": {},
   "outputs": [],
   "source": [
    "plt.plot(lf_claw_0['LFclaw', 'speed'],color='g', label='Fly 0')\n",
    "\n",
    "plt.xlabel(\"time (sec)\")\n",
    "plt.ylabel(\"speed\")\n",
    "plt.title(\"Speed for left front leg\")\n",
    "plt.legend()\n",
    "plt.grid()"
   ]
  },
  {
   "cell_type": "code",
   "execution_count": null,
   "metadata": {},
   "outputs": [],
   "source": []
  }
 ],
 "metadata": {
  "kernelspec": {
   "display_name": "Python 3",
   "language": "python",
   "name": "python3"
  },
  "language_info": {
   "codemirror_mode": {
    "name": "ipython",
    "version": 3
   },
   "file_extension": ".py",
   "mimetype": "text/x-python",
   "name": "python",
   "nbconvert_exporter": "python",
   "pygments_lexer": "ipython3",
   "version": "3.7.6"
  }
 },
 "nbformat": 4,
 "nbformat_minor": 4
}

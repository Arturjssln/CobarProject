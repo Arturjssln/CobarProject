{
 "cells": [
  {
   "cell_type": "markdown",
   "metadata": {},
   "source": [
    "# COBAR Project \n",
    "\n",
    "Authors: Célia Benquet, Artur Jesslen & Léa Schmidt"
   ]
  },
  {
   "cell_type": "markdown",
   "metadata": {},
   "source": [
    "## Import library"
   ]
  },
  {
   "cell_type": "code",
   "execution_count": null,
   "metadata": {},
   "outputs": [],
   "source": [
    "import pickle\n",
    "import matplotlib.pyplot as plt\n",
    "import numpy as np\n",
    "import pandas as pd \n",
    "import seaborn as sns\n",
    "from scipy import signal"
   ]
  },
  {
   "cell_type": "markdown",
   "metadata": {},
   "source": [
    "### Utility functions"
   ]
  },
  {
   "cell_type": "code",
   "execution_count": null,
   "metadata": {},
   "outputs": [],
   "source": [
    "def color_background(ax, stage, vertical = True):\n",
    "        label_on = 0\n",
    "        label_off = 0\n",
    "        bornes = [[stage[stage == label].index[id_] for id_ in [0,-1]] for label in stage.unique()]\n",
    "        \n",
    "        for born, stage_name in zip(bornes, stage.unique()):\n",
    "            if stage_name.startswith('on'):\n",
    "                if vertical:\n",
    "                    ax.axvspan(born[0], born[1], facecolor='g', alpha=0.2, label =  \"_\"*label_on + \"Light on\")\n",
    "                else:\n",
    "                    ax.axhspan(born[0], born[1], facecolor='g', alpha=0.2, label =  \"_\"*label_on + \"Light on\")\n",
    "                label_on += 1\n",
    "            else:\n",
    "                if vertical:\n",
    "                    ax.axvspan(born[0], born[1], facecolor='r', alpha=0.2, label =  \"_\"*label_off + \"Light off\")\n",
    "                else:\n",
    "                    ax.axhspan(born[0], born[1], facecolor='r', alpha=0.2, label =  \"_\"*label_off + \"Light off\")\n",
    "                label_off += 1"
   ]
  },
  {
   "cell_type": "markdown",
   "metadata": {},
   "source": [
    "## Class experiment"
   ]
  },
  {
   "cell_type": "code",
   "execution_count": null,
   "metadata": {},
   "outputs": [],
   "source": [
    "class Experiment:\n",
    "    def __init__(self, mov_av = 30):\n",
    "        self.load_data()\n",
    "        self.stage_name = ['off0', 'on0', 'off1', 'on1','off2', 'on2', 'off3']\n",
    "        self.dt = 1. / 80\n",
    "        self.pixel_to_mm = 32. / 832\n",
    "        self.width_mov_av_claw = mov_av\n",
    "        self.width_mov_av_speed = mov_av\n",
    "        self.width_mov_av_ang_speed = mov_av\n",
    "        \n",
    "        self.include_stage_and_update_data()\n",
    "        \n",
    "        self.replicates_MDN_sorted = self.prepare_data(self.data_MDN)\n",
    "        self.replicates_SS_sorted = self.prepare_data(self.data_SS)\n",
    "        self.replicates_PR_sorted = self.prepare_data(self.data_PR)\n",
    "        \n",
    "        self.flies = []\n",
    "        self.speeds_MDN = np.array([[]]) \n",
    "        self.speeds_SS = np.array([[]]) \n",
    "        self.speeds_PR = np.array([[]])\n",
    "        \n",
    "    def add_fly(self, fly):\n",
    "        self.flies.append(fly)\n",
    "        \n",
    "    def include_stage_and_update_data(self, off0 = True, on0  = True, off1  = True, on1  = True, off2  = True, on2  = True, off3  = True):\n",
    "        self.stage_activate = [off0, on0, off1, on1, off2, on2, off3]\n",
    "        \n",
    "        self.replicates_MDN_sorted = self.prepare_data(self.data_MDN)\n",
    "        self.replicates_SS_sorted = self.prepare_data(self.data_SS)\n",
    "        self.replicates_PR_sorted = self.prepare_data(self.data_PR)\n",
    "    \n",
    "    def load_data(self):\n",
    "        path_MDN = 'data/MDN/U3_f'\n",
    "        path_SS = 'data/SS01540/U3_f'\n",
    "        path_PR = 'data/PR/U3_f'\n",
    "        with open(path_MDN + '/MDN_U3_f_trackingData.pkl', 'rb') as f: \n",
    "            self.data_MDN = pickle.load(f).reset_index()\n",
    "        with open(path_SS + '/SS01540_U3_f_trackingData.pkl', 'rb') as f: \n",
    "            self.data_SS = pickle.load(f).reset_index()\n",
    "        with open(path_PR + '/PR_U3_f_trackingData.pkl', 'rb') as f: \n",
    "            self.data_PR = pickle.load(f).reset_index()\n",
    "            \n",
    "    def prepare_data(self, data_raw):\n",
    "        replicates_raw_sorted = []\n",
    "        replicates = [data_raw[data_raw['replicate'] == i] for i in range(1, 13)]\n",
    "        for replicate in replicates:\n",
    "            stage_sorted = pd.DataFrame([])\n",
    "            for stage, stage_is_included in zip(self.stage_name, self.stage_activate):\n",
    "                if stage_is_included:\n",
    "                    stage_sorted = stage_sorted.append(replicate[replicate['exp_stage'] == stage], ignore_index = True)\n",
    "            stage_sorted = stage_sorted.reset_index()\n",
    "            replicates_raw_sorted.append(stage_sorted)\n",
    "        return replicates_raw_sorted\n",
    "\n",
    "\n",
    "    def compute_claws(self, moving_average = False):\n",
    "        for fly_ in self.flies:\n",
    "            fly_.compute_claws(self, moving_average)\n",
    "            \n",
    "    def plot_claws(self, fly = None, MDN = False, SS = False, PR = False, display_background = False):\n",
    "        if fly is None:\n",
    "            for fly_ in self.flies:\n",
    "                fly_.plot_claws(MDN, SS, PR, display_background)\n",
    "        else:\n",
    "            for fly_nb in fly:\n",
    "                self.flies[fly_nb].plot_claws(MDN, SS, PR, display_background)\n",
    "        "
   ]
  },
  {
   "cell_type": "markdown",
   "metadata": {},
   "source": [
    "## Class Fly"
   ]
  },
  {
   "cell_type": "code",
   "execution_count": null,
   "metadata": {},
   "outputs": [],
   "source": [
    "class Fly:\n",
    "    def __init__(self, exp, id_):\n",
    "        self.id = id_\n",
    "        \n",
    "        self.replicates_nb_MDN = exp.data_MDN[exp.data_MDN['fly'] == id_]['replicate'].unique()\n",
    "        self.replicates_nb_SS = exp.data_SS[exp.data_SS['fly'] == id_]['replicate'].unique()\n",
    "        self.replicates_nb_PR = exp.data_PR[exp.data_PR['fly'] == id_]['replicate'].unique()\n",
    "        \n",
    "        self.replicates_MDN = [exp.replicates_MDN_sorted[i-1] for i in self.replicates_nb_MDN]\n",
    "        self.replicates_SS = [exp.replicates_SS_sorted[i-1] for i in self.replicates_nb_SS]\n",
    "        self.replicates_PR = [exp.replicates_PR_sorted[i-1] for i in self.replicates_nb_PR]\n",
    "        \n",
    "        #self.compute_pos_and_speed(exp)\n",
    "        \n",
    "        self.claws_name = ['LFclaw', 'LMclaw', 'LHclaw', 'RFclaw', 'RMclaw', 'RHclaw']\n",
    "        #self.claws_name = ['LFtibiaTarsus', 'LMtibiaTarsus', 'LHtibiaTarsus', 'RFtibiaTarsus', 'RMtibiaTarsus', 'RHtibiaTarsus']\n",
    "        self.compute_claws(exp)\n",
    "    \n",
    "    def sub_to_itself(self, data_frame):\n",
    "        return data_frame.subtract(data_frame.copy().shift())\n",
    "    \n",
    "    def plot_claws(self, MDN = False, SS = False, PR = False, display_background = False):\n",
    "        if MDN:\n",
    "            plt.figure(figsize=(40, 20))\n",
    "            plt.suptitle('Claws position (MDN data)', fontsize=32)\n",
    "            for i, replicate_nb in zip(range(len(self.replicates_nb_MDN)), self.replicates_nb_MDN):\n",
    "                plt.subplot(2, len(self.replicates_nb_MDN), i + 1) \n",
    "                for j in range(len(self.claws_name)):\n",
    "                    plt.plot(range(self.positions_claws_MDN[i][j][1].shape[0]), self.positions_claws_MDN[i][j][1], label=self.claws_name[j])\n",
    "                plt.gca().invert_yaxis()\n",
    "                plt.xlabel('Frame number')\n",
    "                plt.ylabel('Claws position (y axis)')\n",
    "                plt.title('Fly {}: replicate {} - moving average width : {} (Y-axis)'.format(self.id,  replicate_nb, self.width_mov_av_claw if self.moving_average_claw else 'None'), fontsize=16)\n",
    "                if display_background:\n",
    "                    color_background(plt.gca(), self.replicates_MDN[i]['exp_stage'])\n",
    "                plt.legend()\n",
    "                \n",
    "                plt.subplot(2, len(self.replicates_nb_MDN), i + len(self.replicates_nb_MDN) + 1) \n",
    "                for j in range(len(self.claws_name)):\n",
    "                    plt.plot(self.positions_claws_MDN[i][j][0], range(self.positions_claws_MDN[i][j][0].shape[0]), label=self.claws_name[j])\n",
    "                plt.gca().invert_yaxis()\n",
    "                plt.xlabel('Claws position (x axis)')\n",
    "                plt.ylabel('Frame number')\n",
    "                plt.title('Fly {}: replicate {} - moving average width : {} (X-axis)'.format(self.id,  replicate_nb, self.width_mov_av_claw if self.moving_average_claw else 'None'), fontsize=16)\n",
    "                if display_background:\n",
    "                    color_background(plt.gca(), self.replicates_MDN[i]['exp_stage'], False)\n",
    "                plt.legend()\n",
    "            plt.show()\n",
    "        if SS:\n",
    "            plt.figure(figsize=(40, 20))\n",
    "            plt.suptitle('Claws position (SS data)', fontsize=32)\n",
    "            for i, replicate_nb in zip(range(len(self.replicates_nb_SS)), self.replicates_nb_SS):\n",
    "                plt.subplot(2, len(self.replicates_nb_SS), i + 1) \n",
    "                for j in range(len(self.claws_name)):\n",
    "                    plt.plot(range(self.positions_claws_SS[i][j][1].shape[0]), self.positions_claws_SS[i][j][1], label=self.claws_name[j])\n",
    "                plt.gca().invert_yaxis()\n",
    "                plt.xlabel('Frame number')\n",
    "                plt.ylabel('Claws position (y axis)')\n",
    "                plt.title('Fly {}: replicate {} - moving average width : {} (Y-axis)'.format(self.id,  replicate_nb, self.width_mov_av_claw if self.moving_average_claw else 'None'), fontsize=16)\n",
    "                if display_background:\n",
    "                    color_background(plt.gca(), self.replicates_SS[i]['exp_stage'])\n",
    "                plt.legend()\n",
    "                \n",
    "                plt.subplot(2, len(self.replicates_nb_SS), i + len(self.replicates_nb_SS) + 1) \n",
    "                for j in range(len(self.claws_name)):\n",
    "                    plt.plot(self.positions_claws_SS[i][j][0], range(self.positions_claws_SS[i][j][0].shape[0]), label=self.claws_name[j])\n",
    "                plt.gca().invert_yaxis()\n",
    "                plt.xlabel('Claws position (x axis)')\n",
    "                plt.ylabel('Frame number')\n",
    "                plt.title('Fly {}: replicate {} - moving average width : {} (X-axis)'.format(self.id,  replicate_nb, self.width_mov_av_claw if self.moving_average_claw else 'None'), fontsize=16)\n",
    "                if display_background:\n",
    "                    color_background(plt.gca(), self.replicates_SS[i]['exp_stage'], False)\n",
    "                plt.legend()\n",
    "            plt.show()\n",
    "        if PR:\n",
    "            plt.figure(figsize=(40, 20))\n",
    "            plt.suptitle('Claws position (PR data)', fontsize=32)\n",
    "            for i, replicate_nb in zip(range(len(self.replicates_nb_PR)), self.replicates_nb_PR):\n",
    "                plt.subplot(2, len(self.replicates_nb_PR), i + 1) \n",
    "                for j in range(len(self.claws_name)):\n",
    "                    plt.plot(range(self.positions_claws_PR[i][j][1].shape[0]), self.positions_claws_PR[i][j][1], label=self.claws_name[j])\n",
    "                plt.gca().invert_yaxis()\n",
    "                plt.xlabel('Frame number')\n",
    "                plt.ylabel('Claws position (y axis)')\n",
    "                plt.title('Fly {}: replicate {} - moving average width : {} (Y-axis)'.format(self.id,  replicate_nb, self.width_mov_av_claw if self.moving_average_claw else 'None'), fontsize=16)\n",
    "                plt.legend(self.claws_name)\n",
    "                if display_background:\n",
    "                    color_background(plt.gca(), self.replicates_PR[i]['exp_stage'])\n",
    "                plt.legend()\n",
    "                \n",
    "                plt.subplot(2, len(self.replicates_nb_PR), i + len(self.replicates_nb_PR) + 1) \n",
    "                for j in range(len(self.claws_name)):\n",
    "                    plt.plot(self.positions_claws_PR[i][j][0], range(self.positions_claws_PR[i][j][0].shape[0]), label=self.claws_name[j])\n",
    "                plt.gca().invert_yaxis()\n",
    "                plt.xlabel('Claws position (x axis)')\n",
    "                plt.ylabel('Frame number')\n",
    "                plt.title('Fly {}: replicate {} - moving average width : {} (X-axis)'.format(self.id,  replicate_nb, self.width_mov_av_claw if self.moving_average_claw else 'None'), fontsize=16)\n",
    "                if display_background:\n",
    "                    color_background(plt.gca(), self.replicates_PR[i]['exp_stage'], False)\n",
    "                plt.legend()\n",
    "            plt.show()\n",
    "\n",
    "    def compute_claws(self, exp, moving_average = False):\n",
    "        self.positions_claws_MDN = self.compute_position_claws(self.replicates_MDN, exp, moving_average)\n",
    "        self.positions_claws_SS = self.compute_position_claws(self.replicates_SS, exp, moving_average)\n",
    "        self.positions_claws_PR = self.compute_position_claws(self.replicates_PR, exp, moving_average)\n",
    "\n",
    "    def compute_position_claws(self, replicates, exp, moving_average = False):\n",
    "        self.width_mov_av_claw = exp.width_mov_av_claw\n",
    "        self.moving_average_claw = moving_average\n",
    "        if moving_average:\n",
    "            ma_filter = np.ones(self.width_mov_av_claw) / self.width_mov_av_claw\n",
    "            return [[[np.convolve(replicate[claws, ax], ma_filter, 'same') for ax in ['x', 'y']] for claws in self.claws_name] for replicate in replicates]\n",
    "        return [[[replicate[claws, ax] for ax in ['x', 'y']] for claws in self.claws_name] for replicate in replicates]\n",
    "    "
   ]
  },
  {
   "cell_type": "markdown",
   "metadata": {},
   "source": [
    "## Data analysis"
   ]
  },
  {
   "cell_type": "code",
   "execution_count": null,
   "metadata": {},
   "outputs": [],
   "source": [
    "# Create experiment and load data \n",
    "exp = Experiment(mov_av = 30)"
   ]
  },
  {
   "cell_type": "code",
   "execution_count": null,
   "metadata": {},
   "outputs": [],
   "source": [
    "# Include only stage with true value and update data\n",
    "exp.include_stage_and_update_data(off0 = True, on0 = True, \\\n",
    "                                  off1 = True, on1 = True, \\\n",
    "                                  off2 = True, on2 = True, \\\n",
    "                                  off3 = True)"
   ]
  },
  {
   "cell_type": "code",
   "execution_count": null,
   "metadata": {},
   "outputs": [],
   "source": [
    "# Create differents flies with given id\n",
    "exp.add_fly(Fly(exp, id_ = 0))\n",
    "exp.add_fly(Fly(exp, id_ = 1))\n",
    "exp.add_fly(Fly(exp, id_ = 2))"
   ]
  },
  {
   "cell_type": "code",
   "execution_count": null,
   "metadata": {},
   "outputs": [],
   "source": [
    "#exp.replicates_MDN_sorted[0].head()\n"
   ]
  },
  {
   "cell_type": "markdown",
   "metadata": {},
   "source": [
    "## Question 2.a"
   ]
  },
  {
   "cell_type": "code",
   "execution_count": null,
   "metadata": {},
   "outputs": [],
   "source": [
    "moving_average = False\n",
    "exp.width_mov_av_claw = 20\n",
    "display_background = True"
   ]
  },
  {
   "cell_type": "code",
   "execution_count": null,
   "metadata": {},
   "outputs": [],
   "source": [
    "exp.compute_claws(moving_average = moving_average)"
   ]
  },
  {
   "cell_type": "code",
   "execution_count": null,
   "metadata": {},
   "outputs": [],
   "source": [
    "# fly can be None, of a list of fly id (i.e. [0,2])\n",
    "exp.plot_claws(fly = [0], MDN = True, display_background = display_background)"
   ]
  },
  {
   "cell_type": "code",
   "execution_count": null,
   "metadata": {},
   "outputs": [],
   "source": [
    "# fly can be None, of a list of fly id (i.e. [0,2])\n",
    "exp.plot_claws(fly = [0], SS = True, display_background = display_background)"
   ]
  },
  {
   "cell_type": "code",
   "execution_count": null,
   "metadata": {},
   "outputs": [],
   "source": [
    "# fly can be None, of a list of fly id (i.e. [0,2])\n",
    "exp.plot_claws(fly = [0], PR = True, display_background = display_background)"
   ]
  },
  {
   "cell_type": "code",
   "execution_count": null,
   "metadata": {},
   "outputs": [],
   "source": []
  },
  {
   "cell_type": "code",
   "execution_count": null,
   "metadata": {
    "scrolled": false
   },
   "outputs": [],
   "source": [
    "# Used to compute mean and variance for member 0\n",
    "all_claws_MDN_x = np.array([[]])\n",
    "all_claws_MDN_y = np.array([[]])\n",
    "for fly in range(len(exp.flies)):\n",
    "    claws_MDN_x = []\n",
    "    claws_MDN_y = []\n",
    "    nb_data_MDN = min([len(data[0][0]) for data in exp.flies[fly].positions_claws_MDN])\n",
    "    for claw_MDN in exp.flies[fly].positions_claws_MDN:\n",
    "        claws_MDN_x.append(claw_MDN[1][0][:nb_data_MDN])\n",
    "        claws_MDN_y.append(claw_MDN[1][1][:nb_data_MDN])\n",
    "    claws_MDN_x = np.asarray(claws_MDN_x)\n",
    "    claws_MDN_y = np.asarray(claws_MDN_y)\n",
    "    all_claws_MDN_x = np.concatenate((all_claws_MDN_x, claws_MDN_x), axis=0) if all_claws_MDN_x.size else claws_MDN\n",
    "    all_claws_MDN_y = np.concatenate((all_claws_MDN_y, claws_MDN_y), axis=0) if all_claws_MDN_y.size else claws_MDN\n"
   ]
  },
  {
   "cell_type": "code",
   "execution_count": null,
   "metadata": {},
   "outputs": [],
   "source": [
    "def find_local_max(data):\n",
    "    return np.r_[True, data[1:] < data[:-1]] & np.r_[data[:-1] < data[1:], True]"
   ]
  },
  {
   "cell_type": "code",
   "execution_count": null,
   "metadata": {},
   "outputs": [],
   "source": [
    "def find_frequency(local_max, dt = 1/80):\n",
    "    time = np.where(local_max == True)[0] * dt\n",
    "    period = np.roll(time, -1) - time \n",
    "    freq = local_max.copy().astype(int)\n",
    "    freq[np.where(local_max == True)[0]] = 1 / period\n",
    "    return time[:-2], 1 / period"
   ]
  },
  {
   "cell_type": "code",
   "execution_count": null,
   "metadata": {},
   "outputs": [],
   "source": [
    "def get_frequency(data, dt = 1/80):\n",
    "    local_max = np.r_[True, data[1:] < data[:-1]] & np.r_[data[:-1] < data[1:], True]\n",
    "    time = np.where(local_max == True)[0] * dt\n",
    "    period = np.roll(time, -1) - time \n",
    "    freq = 1 / period\n",
    "    return time, freq"
   ]
  },
  {
   "cell_type": "code",
   "execution_count": null,
   "metadata": {
    "scrolled": false
   },
   "outputs": [],
   "source": [
    "time, freq = find_frequency(find_local_max(all_claws_MDN_x[0]))\n",
    "plt.plot(time, freq)"
   ]
  },
  {
   "cell_type": "code",
   "execution_count": null,
   "metadata": {},
   "outputs": [],
   "source": []
  },
  {
   "cell_type": "markdown",
   "metadata": {},
   "source": [
    "## Clustering "
   ]
  },
  {
   "cell_type": "code",
   "execution_count": null,
   "metadata": {
    "scrolled": false
   },
   "outputs": [],
   "source": [
    "data = exp.flies[0].positions_claws_MDN"
   ]
  },
  {
   "cell_type": "code",
   "execution_count": null,
   "metadata": {
    "scrolled": false
   },
   "outputs": [],
   "source": [
    "print(len(data[0][0][0]))"
   ]
  },
  {
   "cell_type": "code",
   "execution_count": null,
   "metadata": {},
   "outputs": [],
   "source": []
  },
  {
   "cell_type": "code",
   "execution_count": null,
   "metadata": {
    "scrolled": false
   },
   "outputs": [],
   "source": [
    "exp.flies[0].positions_claws_MDN[0]"
   ]
  },
  {
   "cell_type": "code",
   "execution_count": null,
   "metadata": {},
   "outputs": [],
   "source": []
  }
 ],
 "metadata": {
  "kernelspec": {
   "display_name": "Python 3",
   "language": "python",
   "name": "python3"
  },
  "language_info": {
   "codemirror_mode": {
    "name": "ipython",
    "version": 3
   },
   "file_extension": ".py",
   "mimetype": "text/x-python",
   "name": "python",
   "nbconvert_exporter": "python",
   "pygments_lexer": "ipython3",
   "version": "3.7.6"
  }
 },
 "nbformat": 4,
 "nbformat_minor": 4
}

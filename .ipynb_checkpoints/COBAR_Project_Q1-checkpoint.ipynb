{
 "cells": [
  {
   "cell_type": "markdown",
   "metadata": {},
   "source": [
    "# COBAR Project \n",
    "\n",
    "Authors: Célia Benquet, Artur Jesslen & Léa Schmidt"
   ]
  },
  {
   "cell_type": "markdown",
   "metadata": {},
   "source": [
    "## 1. Load the data"
   ]
  },
  {
   "cell_type": "code",
   "execution_count": null,
   "metadata": {},
   "outputs": [],
   "source": [
    "import pickle\n",
    "import matplotlib.pyplot as plt\n",
    "import pickle\n",
    "import numpy as np\n",
    "import pandas as pd \n",
    "import seaborn as sns\n",
    "from scipy import signal\n",
    "\n",
    "\n",
    "path_MDN = 'data/MDN/U3_f'\n",
    "with open(path_MDN + '/MDN_U3_f_trackingData.pkl', 'rb') as f: \n",
    "    data_MDN = pickle.load(f)\n",
    "    \n",
    "path_SS = 'data/SS01540/U3_f'\n",
    "with open(path_SS + '/SS01540_U3_f_trackingData.pkl', 'rb') as f: \n",
    "    data_SS = pickle.load(f)\n",
    "    \n",
    "path_PR = 'data/PR/U3_f'\n",
    "with open(path_PR + '/PR_U3_f_trackingData.pkl', 'rb') as f: \n",
    "    data_PR = pickle.load(f)"
   ]
  },
  {
   "cell_type": "code",
   "execution_count": null,
   "metadata": {},
   "outputs": [],
   "source": [
    "data_MDN.head()"
   ]
  },
  {
   "cell_type": "code",
   "execution_count": null,
   "metadata": {},
   "outputs": [],
   "source": [
    "data_SS.head()"
   ]
  },
  {
   "cell_type": "code",
   "execution_count": null,
   "metadata": {},
   "outputs": [],
   "source": [
    "data_PR"
   ]
  },
  {
   "cell_type": "code",
   "execution_count": null,
   "metadata": {},
   "outputs": [],
   "source": [
    "data_sort_MDN = data_MDN.copy()\n",
    "data_sort_MDN = data_sort_MDN.reset_index()\n",
    "\n",
    "data_sort_SS = data_SS.copy()\n",
    "data_sort_SS = data_sort_SS.reset_index()\n",
    "\n",
    "data_sort_PR = data_PR.copy()\n",
    "data_sort_PR = data_sort_PR.reset_index()"
   ]
  },
  {
   "cell_type": "code",
   "execution_count": null,
   "metadata": {},
   "outputs": [],
   "source": [
    "replicate_MDN = [data_sort_MDN[data_sort_MDN['replicate']==1], data_sort_MDN[data_sort_MDN['replicate']==2],\n",
    "             data_sort_MDN[data_sort_MDN['replicate']==3], data_sort_MDN[data_sort_MDN['replicate']==4], \n",
    "             data_sort_MDN[data_sort_MDN['replicate']==5], data_sort_MDN[data_sort_MDN['replicate']==6],\n",
    "             data_sort_MDN[data_sort_MDN['replicate']==7], data_sort_MDN[data_sort_MDN['replicate']==8],\n",
    "             data_sort_MDN[data_sort_MDN['replicate']==9], data_sort_MDN[data_sort_MDN['replicate']==10], \n",
    "             data_sort_MDN[data_sort_MDN['replicate']==11],data_sort_MDN[data_sort_MDN['replicate']==12]]\n",
    "\n",
    "replicate_SS = [data_sort_SS[data_sort_SS['replicate']==1], data_sort_SS[data_sort_SS['replicate']==2],\n",
    "             data_sort_SS[data_sort_SS['replicate']==3], data_sort_SS[data_sort_SS['replicate']==4], \n",
    "             data_sort_SS[data_sort_SS['replicate']==5], data_sort_SS[data_sort_SS['replicate']==6],\n",
    "             data_sort_SS[data_sort_SS['replicate']==7], data_sort_SS[data_sort_SS['replicate']==8],\n",
    "             data_sort_SS[data_sort_SS['replicate']==9], data_sort_SS[data_sort_SS['replicate']==10], \n",
    "             data_sort_SS[data_sort_SS['replicate']==11],data_sort_SS[data_sort_SS['replicate']==12]]\n",
    "\n",
    "replicate_PR = [data_sort_PR[data_sort_PR['replicate']==1], data_sort_PR[data_sort_PR['replicate']==2],\n",
    "             data_sort_PR[data_sort_PR['replicate']==3], data_sort_PR[data_sort_PR['replicate']==4], \n",
    "             data_sort_PR[data_sort_PR['replicate']==5], data_sort_PR[data_sort_PR['replicate']==6],\n",
    "             data_sort_PR[data_sort_PR['replicate']==7], data_sort_PR[data_sort_PR['replicate']==8],\n",
    "             data_sort_PR[data_sort_PR['replicate']==9], data_sort_PR[data_sort_PR['replicate']==10], \n",
    "             data_sort_PR[data_sort_PR['replicate']==11],data_sort_PR[data_sort_PR['replicate']==12]]"
   ]
  },
  {
   "cell_type": "markdown",
   "metadata": {},
   "source": [
    "## 2. Question 1a"
   ]
  },
  {
   "cell_type": "code",
   "execution_count": null,
   "metadata": {},
   "outputs": [],
   "source": [
    "def calculate_position(num_replicate, replicate_name):\n",
    "    replicate = replicate_name\n",
    "    centerx = replicate[num_replicate]['center','posx']\n",
    "    centery = replicate[num_replicate]['center','posy']\n",
    "        \n",
    "    final_position = [centerx , centery]\n",
    "    return final_position\n",
    "    "
   ]
  },
  {
   "cell_type": "code",
   "execution_count": null,
   "metadata": {},
   "outputs": [],
   "source": [
    "def calculate_position_fly(num_replicate, replicate_name):\n",
    "    center1 = calculate_position(num_replicate, replicate_name)\n",
    "    center2 = calculate_position(num_replicate+1, replicate_name)\n",
    "    center3 = calculate_position(num_replicate+2, replicate_name)\n",
    "    center4 = calculate_position(num_replicate+3, replicate_name)\n",
    "    \n",
    "    final_position = [center1 , center2, center3, center4]\n",
    "    return final_position"
   ]
  },
  {
   "cell_type": "code",
   "execution_count": null,
   "metadata": {},
   "outputs": [],
   "source": [
    "exp_stage_name = ['off0', 'on0', 'off1', 'on1','off2', 'on2', 'off3']\n",
    "\n",
    "# Sort replicates by stage order\n",
    "def sort_stage(replicate_name):\n",
    "    replicate_stage_sorted = []\n",
    "    for replicate in replicate_name:\n",
    "        stage_sorted = pd.DataFrame([])\n",
    "        for stage in exp_stage_name:\n",
    "            stage_sorted = stage_sorted.append(replicate[replicate['exp_stage'] == stage], ignore_index = True)\n",
    "        stage_sorted = stage_sorted.reset_index()\n",
    "        replicate_stage_sorted.append(stage_sorted)\n",
    "    return replicate_stage_sorted"
   ]
  },
  {
   "cell_type": "markdown",
   "metadata": {},
   "source": [
    "#### i. MDN data"
   ]
  },
  {
   "cell_type": "code",
   "execution_count": null,
   "metadata": {},
   "outputs": [],
   "source": [
    "replicate_MDN_sorted = sort_stage(replicate_MDN)"
   ]
  },
  {
   "cell_type": "code",
   "execution_count": null,
   "metadata": {},
   "outputs": [],
   "source": [
    "center_MDN_1 = calculate_position_fly(0, replicate_MDN_sorted)\n",
    "center_MDN_2 = calculate_position_fly(4, replicate_MDN_sorted)\n",
    "center_MDN_3 = calculate_position_fly(8, replicate_MDN_sorted)"
   ]
  },
  {
   "cell_type": "code",
   "execution_count": null,
   "metadata": {},
   "outputs": [],
   "source": [
    "plt.figure(figsize=(22, 10))\n",
    "plt.suptitle('MDN data', fontsize=16)\n",
    "\n",
    "for i in range(4):\n",
    "    # Fly 1\n",
    "    plt.subplot(3, 4, i + 1) \n",
    "    plt.gca().invert_yaxis()\n",
    "    plt.plot(center_MDN_1[i][0], center_MDN_1[i][1], color= 'r')\n",
    "    plt.xlim(0, 832)\n",
    "    plt.ylim(0, 832)\n",
    "    plt.title('Fly 0: replicate ' + str(i+1))\n",
    "    \n",
    "    # Fly 2\n",
    "    plt.subplot(3, 4, i + 5) \n",
    "    plt.gca().invert_yaxis()\n",
    "    plt.plot(center_MDN_2[i][0], center_MDN_2[i][1], color= 'g')\n",
    "    plt.xlim(0, 832)\n",
    "    plt.ylim(0, 832)\n",
    "    plt.title('Fly 1: replicate ' + str(i+5))\n",
    "    \n",
    "    # Fly 3\n",
    "    plt.subplot(3, 4, i + 9) \n",
    "    plt.gca().invert_yaxis()\n",
    "    plt.plot(center_MDN_3[i][0], center_MDN_3[i][1], color= 'b')\n",
    "    plt.xlim(0, 832)\n",
    "    plt.ylim(0, 832)\n",
    "    plt.title('Fly 2: replicate ' + str(i+9))"
   ]
  },
  {
   "cell_type": "markdown",
   "metadata": {},
   "source": [
    "Plot each graphs for each replicate. \n",
    "All the same color are for 1 fly."
   ]
  },
  {
   "cell_type": "markdown",
   "metadata": {},
   "source": [
    "#### ii. SS data"
   ]
  },
  {
   "cell_type": "code",
   "execution_count": null,
   "metadata": {},
   "outputs": [],
   "source": [
    "replicate_SS_sorted = sort_stage(replicate_SS)"
   ]
  },
  {
   "cell_type": "code",
   "execution_count": null,
   "metadata": {},
   "outputs": [],
   "source": [
    "center_SS_1 = calculate_position_fly(0, replicate_SS_sorted)\n",
    "center_SS_2 = calculate_position_fly(4, replicate_SS_sorted)\n",
    "center_SS_3 = calculate_position_fly(8, replicate_SS_sorted)"
   ]
  },
  {
   "cell_type": "code",
   "execution_count": null,
   "metadata": {},
   "outputs": [],
   "source": [
    "plt.figure(figsize=(22, 10))\n",
    "plt.suptitle('SS data', fontsize=16)\n",
    "\n",
    "\n",
    "for i in range(4):\n",
    "    # Fly 1\n",
    "    plt.subplot(3, 4, i + 1) \n",
    "    plt.gca().invert_yaxis()\n",
    "    plt.plot(center_SS_1[i][0], center_SS_1[i][1], color= 'r')\n",
    "    plt.xlim(0, 832)\n",
    "    plt.ylim(0, 832)\n",
    "    plt.title('Fly 0: replicate ' + str(i+1))\n",
    "    \n",
    "    # Fly 2\n",
    "    plt.subplot(3, 4, i + 5) \n",
    "    plt.gca().invert_yaxis()\n",
    "    plt.plot(center_SS_2[i][0], center_SS_2[i][1], color= 'g')\n",
    "    plt.xlim(0, 832)\n",
    "    plt.ylim(0, 832)\n",
    "    plt.title('Fly 1: replicate ' + str(i+5))\n",
    "    \n",
    "    # Fly 3\n",
    "    plt.subplot(3, 4, i + 9) \n",
    "    plt.gca().invert_yaxis()\n",
    "    plt.plot(center_SS_3[i][0], center_SS_3[i][1], color= 'b')\n",
    "    plt.xlim(0, 832)\n",
    "    plt.ylim(0, 832)\n",
    "    plt.title('Fly 2: replicate ' + str(i+9))"
   ]
  },
  {
   "cell_type": "markdown",
   "metadata": {},
   "source": [
    "#### iii. PR data"
   ]
  },
  {
   "cell_type": "code",
   "execution_count": null,
   "metadata": {},
   "outputs": [],
   "source": [
    "replicate_PR_sorted = sort_stage(replicate_PR)"
   ]
  },
  {
   "cell_type": "code",
   "execution_count": null,
   "metadata": {},
   "outputs": [],
   "source": [
    "center_PR_1 = calculate_position_fly(0, replicate_PR_sorted)\n",
    "center_PR_2 = calculate_position_fly(4, replicate_PR_sorted)\n",
    "center_PR_3 = calculate_position_fly(8, replicate_PR_sorted)"
   ]
  },
  {
   "cell_type": "code",
   "execution_count": null,
   "metadata": {},
   "outputs": [],
   "source": [
    "plt.figure(figsize=(22, 10))\n",
    "plt.suptitle('PR data', fontsize=16)\n",
    "\n",
    "for i in range(4):\n",
    "    # Fly 1\n",
    "    plt.subplot(3, 4, i + 1) \n",
    "    plt.gca().invert_yaxis()\n",
    "    plt.plot(center_PR_1[i][0], center_PR_1[i][1], color= 'r')\n",
    "    plt.xlim(0, 832)\n",
    "    plt.ylim(0, 832)\n",
    "    plt.title('Fly 0: replicate ' + str(i+1))\n",
    "    \n",
    "    # Fly 2\n",
    "    plt.subplot(3, 4, i + 5) \n",
    "    plt.gca().invert_yaxis()\n",
    "    plt.plot(center_PR_2[i][0], center_PR_2[i][1], color= 'g')\n",
    "    plt.xlim(0, 832)\n",
    "    plt.ylim(0, 832)\n",
    "    plt.title('Fly 1: replicate ' + str(i+5))\n",
    "    \n",
    "    # Fly 3\n",
    "    plt.subplot(3, 4, i + 9) \n",
    "    plt.gca().invert_yaxis()\n",
    "    plt.plot(center_PR_3[i][0], center_PR_3[i][1], color= 'b')\n",
    "    plt.xlim(0, 832)\n",
    "    plt.ylim(0, 832)\n",
    "    plt.title('Fly 2: replicate ' + str(i+9))"
   ]
  },
  {
   "cell_type": "markdown",
   "metadata": {},
   "source": [
    "## 2. Question 1b"
   ]
  },
  {
   "cell_type": "markdown",
   "metadata": {},
   "source": [
    "the forward / backward speed over time"
   ]
  },
  {
   "cell_type": "code",
   "execution_count": null,
   "metadata": {},
   "outputs": [],
   "source": [
    "def subtract_array_to_itself(data_frame):\n",
    "    to_sub = data_frame.copy()\n",
    "   \n",
    "    #I don't understand why this doesn't work...\n",
    "    #to_sub.shift(periods = 1, fill_value = 0)\n",
    "    #to_sub.head(-1)\n",
    "    \n",
    "    return data_frame.subtract(to_sub.shift())"
   ]
  },
  {
   "cell_type": "code",
   "execution_count": null,
   "metadata": {},
   "outputs": [],
   "source": [
    "# TEST \n",
    "a = replicate_MDN[0]['center','posx_n']\n",
    "b = subtract_array_to_itself(a)\n"
   ]
  },
  {
   "cell_type": "code",
   "execution_count": null,
   "metadata": {},
   "outputs": [],
   "source": [
    "dt = 1. / 80\n",
    "pixel_to_mm = 32. / 832\n",
    "moving_average = 30\n",
    "diff = moving_average - 1\n",
    "\n",
    "def calculate_speed(num_replicate, replicate_name, moving_average = False):\n",
    "    \n",
    "    pos_x = subtract_array_to_itself(replicate_name[num_replicate]['center','posx'])\n",
    "    pos_y = subtract_array_to_itself(replicate_name[num_replicate]['center','posy'])\n",
    "    # Need to verify if fly_orientation and speed_angle are in the same referential\n",
    "    time = range(pos_x.shape[0])\n",
    "    \n",
    "    if moving_average:\n",
    "        speed_magnitude_raw = np.sqrt(pos_x**2 + pos_y**2) * pixel_to_mm / dt\n",
    "        speed_angle_raw = np.arctan2(pos_y, pos_x) * 180 / np.pi + 180\n",
    "        fly_orientation_raw = replicate_name[num_replicate]['center','orientation']\n",
    "        speed_magnitude = np.zeros(speed_magnitude_raw.shape[0])\n",
    "        speed_angle = np.zeros(speed_angle_raw.shape[0])\n",
    "        fly_orientation = np.zeros(fly_orientation_raw.shape[0])\n",
    "        for i in range(speed_magnitude_raw.shape[0] - diff):\n",
    "            speed_magnitude[i+diff] = np.average(speed_magnitude_raw[i:i+diff])\n",
    "            speed_angle[i+diff] = np.average(speed_angle_raw[i:i+diff])\n",
    "            fly_orientation[i+diff] = np.average(fly_orientation_raw[i:i+diff])\n",
    "    else: \n",
    "        fly_orientation = replicate_name[num_replicate]['center','orientation']\n",
    "        speed_magnitude = np.sqrt(pos_x**2 + pos_y**2) * pixel_to_mm / dt\n",
    "        speed_angle = np.arctan2(pos_y, pos_x) * 180 / np.pi + 180\n",
    "    \n",
    "    \n",
    "    angle = (speed_angle - fly_orientation + 180) % 360 - 180\n",
    "    \n",
    "    speed = np.cos(angle * np.pi/180) * speed_magnitude\n",
    "    \n",
    "    return [time, speed]"
   ]
  },
  {
   "cell_type": "code",
   "execution_count": null,
   "metadata": {},
   "outputs": [],
   "source": [
    "def forward_backward_speed(num_replicate, replicate_name):\n",
    "    return [calculate_speed(num_replicate+i, replicate_name, moving_average = False) for i in range(4)]\n"
   ]
  },
  {
   "cell_type": "code",
   "execution_count": null,
   "metadata": {},
   "outputs": [],
   "source": [
    "speed_replicate1 = forward_backward_speed(0, replicate_MDN_sorted)\n",
    "speed_replicate2 = forward_backward_speed(4, replicate_MDN_sorted)\n",
    "speed_replicate3 = forward_backward_speed(8, replicate_MDN_sorted)"
   ]
  },
  {
   "cell_type": "code",
   "execution_count": null,
   "metadata": {},
   "outputs": [],
   "source": [
    "plt.figure(figsize=(22, 10))\n",
    "plt.suptitle('Velocity magnitude', fontsize=16)\n",
    "\n",
    "for i in range(4):\n",
    "    # Fly 0\n",
    "    plt.subplot(3, 4, i + 1) \n",
    "    plt.plot(speed_replicate1[i][0], speed_replicate1[i][1], color= 'r')\n",
    "    plt.title('Fly 0: replicate ' + str(i))\n",
    "    \n",
    "    # Fly 1\n",
    "    plt.subplot(3, 4, i + 5)\n",
    "    plt.plot(speed_replicate2[i][0], speed_replicate2[i][1], color= 'g')\n",
    "    plt.title('Fly 1: replicate ' + str(i+4))\n",
    "    \n",
    "    # Fly 2\n",
    "    plt.subplot(3, 4, i + 9) \n",
    "    plt.plot(speed_replicate3[i][0], speed_replicate3[i][1], color= 'b')\n",
    "    plt.title('Fly 2: replicate ' + str(i+8))"
   ]
  },
  {
   "cell_type": "markdown",
   "metadata": {},
   "source": [
    "## Question 2.a"
   ]
  },
  {
   "cell_type": "code",
   "execution_count": null,
   "metadata": {},
   "outputs": [],
   "source": [
    "claws_name = ['LFclaw', 'LMclaw', 'LHclaw', 'RFclaw', 'RMclaw', 'RHclaw']\n",
    "\n",
    "\n",
    "def calculate_position_claws(num_replicate, replicate_name):\n",
    "    x_pos = [replicate_name[num_replicate][claws, 'x'] for claws in claws_name]\n",
    "    y_pos = [replicate_name[num_replicate][claws, 'y'] for claws in claws_name]\n",
    "        \n",
    "    return [x_pos , y_pos]\n",
    "    \n",
    "def position_claws(num_replicate, replicate_name):\n",
    "    center1 = calculate_position_claws(num_replicate, replicate_name)\n",
    "    center2 = calculate_position_claws(num_replicate+1, replicate_name)\n",
    "    center3 = calculate_position_claws(num_replicate+2, replicate_name)\n",
    "    center4 = calculate_position_claws(num_replicate+3, replicate_name)\n",
    "    \n",
    "    return [center1 , center2, center3, center4]"
   ]
  },
  {
   "cell_type": "code",
   "execution_count": null,
   "metadata": {},
   "outputs": [],
   "source": [
    "claws_MDN_1 = position_claws(0, replicate_MDN_sorted)\n",
    "claws_MDN_2 = position_claws(4, replicate_MDN_sorted)\n",
    "claws_MDN_3 = position_claws(8, replicate_MDN_sorted)"
   ]
  },
  {
   "cell_type": "code",
   "execution_count": null,
   "metadata": {},
   "outputs": [],
   "source": [
    "plt.figure(figsize=(22, 15))\n",
    "plt.suptitle('Claws position (x)', fontsize=16)\n",
    "\n",
    "for i in range(4):\n",
    "    # Fly 1\n",
    "    plt.subplot(3, 4, i + 1) \n",
    "    plt.gca().invert_yaxis()\n",
    "    for j in range(len(claws_name)):\n",
    "        plt.plot(claws_MDN_1[i][0][j], range(claws_MDN_1[i][0][j].shape[0]))\n",
    "    plt.title('Fly 0: replicate ' + str(i+1))\n",
    "    \n",
    "    # Fly 2\n",
    "    plt.subplot(3, 4, i + 5) \n",
    "    plt.gca().invert_yaxis()\n",
    "    for j in range(len(claws_name)):\n",
    "        plt.plot(claws_MDN_2[i][0][j], range(claws_MDN_2[i][0][j].shape[0]))\n",
    "    plt.title('Fly 1: replicate ' + str(i+5))\n",
    "    \n",
    "    # Fly 3\n",
    "    plt.subplot(3, 4, i + 9) \n",
    "    plt.gca().invert_yaxis()\n",
    "    for j in range(len(claws_name)):\n",
    "        plt.plot(claws_MDN_3[i][0][j], range(claws_MDN_3[i][0][j].shape[0])) \n",
    "    plt.title('Fly 2: replicate ' + str(i+9))"
   ]
  },
  {
   "cell_type": "code",
   "execution_count": null,
   "metadata": {},
   "outputs": [],
   "source": [
    "plt.figure(figsize=(22, 15))\n",
    "plt.suptitle('Claws position y', fontsize=16)\n",
    "\n",
    "for i in range(4):\n",
    "    # Fly 1\n",
    "    plt.subplot(3, 4, i + 1) \n",
    "    plt.gca().invert_yaxis()\n",
    "    for j in range(len(claws_name)):\n",
    "        plt.plot(range(claws_MDN_1[i][1][j].shape[0]), claws_MDN_1[i][1][j])\n",
    "    plt.title('Fly 0: replicate ' + str(i+1))\n",
    "    \n",
    "    # Fly 2\n",
    "    plt.subplot(3, 4, i + 5) \n",
    "    plt.gca().invert_yaxis()\n",
    "    for j in range(len(claws_name)):\n",
    "        plt.plot(range(claws_MDN_2[i][1][j].shape[0]), claws_MDN_2[i][1][j])\n",
    "    plt.title('Fly 1: replicate ' + str(i+5))\n",
    "    \n",
    "    # Fly 3\n",
    "    plt.subplot(3, 4, i + 9) \n",
    "    plt.gca().invert_yaxis()\n",
    "    for j in range(len(claws_name)):\n",
    "        plt.plot(range(claws_MDN_3[i][1][j].shape[0]), claws_MDN_3[i][1][j])\n",
    "    plt.title('Fly 2: replicate ' + str(i+9))"
   ]
  },
  {
   "cell_type": "code",
   "execution_count": null,
   "metadata": {
    "scrolled": false
   },
   "outputs": [],
   "source": [
    "plt.figure(figsize=(15, 30))\n",
    "plt.suptitle('Claws position (x, y)', fontsize=16)\n",
    "\n",
    "claw_MDN = claws_MDN_1\n",
    "\n",
    "for i in range(4):\n",
    "    # Fly 1\n",
    "    plt.subplot(4, 2, 2*i + 1)\n",
    "    plt.gca().invert_yaxis()\n",
    "    for j in range(len(claws_name)):\n",
    "        plt.plot(claw_MDN[i][0][j], range(claw_MDN[i][0][j].shape[0]))\n",
    "    plt.title('Fly 0: replicate ' + str(i+1) + ' - x-axis')\n",
    "    \n",
    "    plt.subplot(4, 2, 2*(i + 1)) \n",
    "    plt.gca().invert_yaxis()\n",
    "    for j in range(len(claws_name)):\n",
    "        plt.plot(range(claw_MDN[i][1][j].shape[0]), claw_MDN[i][1][j])\n",
    "    plt.title('Fly 0: replicate ' + str(i+1)+ ' - y-axis')"
   ]
  },
  {
   "cell_type": "code",
   "execution_count": null,
   "metadata": {},
   "outputs": [],
   "source": []
  },
  {
   "cell_type": "code",
   "execution_count": null,
   "metadata": {},
   "outputs": [],
   "source": []
  }
 ],
 "metadata": {
  "kernelspec": {
   "display_name": "Python 3",
   "language": "python",
   "name": "python3"
  },
  "language_info": {
   "codemirror_mode": {
    "name": "ipython",
    "version": 3
   },
   "file_extension": ".py",
   "mimetype": "text/x-python",
   "name": "python",
   "nbconvert_exporter": "python",
   "pygments_lexer": "ipython3",
   "version": "3.7.6"
  }
 },
 "nbformat": 4,
 "nbformat_minor": 4
}

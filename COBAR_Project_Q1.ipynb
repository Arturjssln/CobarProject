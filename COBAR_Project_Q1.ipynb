{
 "cells": [
  {
   "cell_type": "markdown",
   "metadata": {},
   "source": [
    "# COBAR Project \n",
    "\n",
    "Authors: Célia Benquet, Artur Jesslen & Léa Schmidt"
   ]
  },
  {
   "cell_type": "markdown",
   "metadata": {},
   "source": [
    "## Import library"
   ]
  },
  {
   "cell_type": "code",
   "execution_count": null,
   "metadata": {},
   "outputs": [],
   "source": [
    "import pickle\n",
    "import matplotlib.pyplot as plt\n",
    "import numpy as np\n",
    "import pandas as pd \n",
    "import seaborn as sns\n",
    "from scipy import signal"
   ]
  },
  {
   "cell_type": "markdown",
   "metadata": {},
   "source": [
    "### Utility functions"
   ]
  },
  {
   "cell_type": "code",
   "execution_count": null,
   "metadata": {},
   "outputs": [],
   "source": [
    "def color_background(ax, stage, vertical = True):\n",
    "        label_on = 0\n",
    "        label_off = 0\n",
    "        bornes = [[stage[stage == label].index[id_] for id_ in [0,-1]] for label in stage.unique()]\n",
    "        \n",
    "        for born, stage_name in zip(bornes, stage.unique()):\n",
    "            if stage_name.startswith('on'):\n",
    "                if vertical:\n",
    "                    ax.axvspan(born[0], born[1], facecolor='g', alpha=0.2, label =  \"_\"*label_on + \"Light on\")\n",
    "                else:\n",
    "                    ax.axhspan(born[0], born[1], facecolor='g', alpha=0.2, label =  \"_\"*label_on + \"Light on\")\n",
    "                label_on += 1\n",
    "            else:\n",
    "                if vertical:\n",
    "                    ax.axvspan(born[0], born[1], facecolor='r', alpha=0.2, label =  \"_\"*label_off + \"Light off\")\n",
    "                else:\n",
    "                    ax.axhspan(born[0], born[1], facecolor='r', alpha=0.2, label =  \"_\"*label_off + \"Light off\")\n",
    "                label_off += 1\n",
    "\n",
    "def sub_to_itself(data_frame):\n",
    "    return data_frame.subtract(data_frame.copy().shift())\n",
    "\n",
    "def compute_frequency(data, moving_average = False, width_ma = None, dt = 1/80):\n",
    "    freqs = np.zeros_like(data)\n",
    "    for i in range(data.shape[0]):\n",
    "        local_max = np.r_[True, data[i][1:] < data[i][:-1]] & np.r_[data[i][:-1] < data[i][1:], True]\n",
    "        time = np.where(local_max == True)[0] * dt\n",
    "        period = np.roll(time, -1) - time\n",
    "        freq = local_max.copy().astype(int)\n",
    "        freq[np.where(local_max == True)[0]] = 1 / period\n",
    "        freqs[i,:] = fill_zeros_with_last(freq)\n",
    "        if moving_average:\n",
    "            ma_filter = np.ones(width_ma) / width_ma\n",
    "            freqs[i,:] = np.convolve(freqs[i,:], ma_filter, 'same')\n",
    "    return freqs\n",
    "\n",
    "def fill_zeros_with_last(arr):\n",
    "    prev = np.arange(len(arr))\n",
    "    prev[arr == 0] = 0\n",
    "    prev = np.maximum.accumulate(prev)\n",
    "    return arr[prev]"
   ]
  },
  {
   "cell_type": "markdown",
   "metadata": {},
   "source": [
    "## Class experiment"
   ]
  },
  {
   "cell_type": "code",
   "execution_count": null,
   "metadata": {},
   "outputs": [],
   "source": [
    "class Experiment:\n",
    "    def __init__(self, mov_av = 30):\n",
    "        self.load_data()\n",
    "        self.stage_name = ['off0', 'on0', 'off1', 'on1','off2', 'on2', 'off3']\n",
    "        self.claws_name = ['LFclaw', 'LMclaw', 'LHclaw', 'RFclaw', 'RMclaw', 'RHclaw']\n",
    "        self.dt = 1. / 80\n",
    "        self.pixel_to_mm = 32. / 832\n",
    "        self.width_mov_av_claw = mov_av\n",
    "        self.width_mov_av_speed = mov_av\n",
    "        self.width_mov_av_ang_speed = mov_av\n",
    "        self.width_mov_av_claw_freq = mov_av\n",
    "        \n",
    "        self.include_stage_and_update_data()\n",
    "        \n",
    "        self.replicates_MDN_sorted = self.prepare_data(self.data_MDN)\n",
    "        self.replicates_SS_sorted = self.prepare_data(self.data_SS)\n",
    "        self.replicates_PR_sorted = self.prepare_data(self.data_PR)\n",
    "        \n",
    "        self.flies = []\n",
    "        self.speeds_MDN = np.array([[]]) \n",
    "        self.speeds_SS = np.array([[]]) \n",
    "        self.speeds_PR = np.array([[]])\n",
    "        self.claws_MDN_x = [np.array([[]])]*len(self.claws_name) # list of size #claws * (#fly*#replicates/fly) * #nb_data\n",
    "        self.claws_MDN_y = [np.array([[]])]*len(self.claws_name) # list of size #claws * (#fly*#replicates/fly) * #nb_data\n",
    "        self.claws_SS_x = [np.array([[]])]*len(self.claws_name) # list of size #claws * (#fly*#replicates/fly) * #nb_data\n",
    "        self.claws_SS_y = [np.array([[]])]*len(self.claws_name) # list of size #claws * (#fly*#replicates/fly) * #nb_data\n",
    "        self.claws_PR_x = [np.array([[]])]*len(self.claws_name) # list of size #claws * (#fly*#replicates/fly) * #nb_data\n",
    "        self.claws_PR_y = [np.array([[]])]*len(self.claws_name) # list of size #claws * (#fly*#replicates/fly) * #nb_data\n",
    "        \n",
    "    def add_fly(self, fly):\n",
    "        self.flies.append(fly)\n",
    "        \n",
    "    def include_stage_and_update_data(self, off0 = True, on0  = True, off1  = True, on1  = True, off2  = True, on2  = True, off3  = True):\n",
    "        self.stage_activate = [off0, on0, off1, on1, off2, on2, off3]\n",
    "        \n",
    "        self.replicates_MDN_sorted = self.prepare_data(self.data_MDN)\n",
    "        self.replicates_SS_sorted = self.prepare_data(self.data_SS)\n",
    "        self.replicates_PR_sorted = self.prepare_data(self.data_PR)\n",
    "    \n",
    "    def load_data(self):\n",
    "        path_MDN = 'data/MDN/U3_f'\n",
    "        path_SS = 'data/SS01540/U3_f'\n",
    "        path_PR = 'data/PR/U3_f'\n",
    "        with open(path_MDN + '/MDN_U3_f_trackingData.pkl', 'rb') as f: \n",
    "            self.data_MDN = pickle.load(f).reset_index()\n",
    "        with open(path_SS + '/SS01540_U3_f_trackingData.pkl', 'rb') as f: \n",
    "            self.data_SS = pickle.load(f).reset_index()\n",
    "        with open(path_PR + '/PR_U3_f_trackingData.pkl', 'rb') as f: \n",
    "            self.data_PR = pickle.load(f).reset_index()\n",
    "            \n",
    "    def prepare_data(self, data_raw):\n",
    "        replicates_raw_sorted = []\n",
    "        replicates = [data_raw[data_raw['replicate'] == i] for i in range(1, 13)]\n",
    "        for replicate in replicates:\n",
    "            stage_sorted = pd.DataFrame([])\n",
    "            for stage, stage_is_included in zip(self.stage_name, self.stage_activate):\n",
    "                if stage_is_included:\n",
    "                    stage_sorted = stage_sorted.append(replicate[replicate['exp_stage'] == stage], ignore_index = True)\n",
    "            stage_sorted = stage_sorted.reset_index()\n",
    "            replicates_raw_sorted.append(stage_sorted)\n",
    "        return replicates_raw_sorted\n",
    "\n",
    "    def plot_positions(self, fly = None, MDN = False, SS = False, PR = False):\n",
    "        if fly is None:\n",
    "            for fly_ in self.flies:\n",
    "                fly_.plot_positions(MDN, SS, PR)\n",
    "        else:\n",
    "            for fly_nb in fly:\n",
    "                self.flies[fly_nb].plot_positions(MDN, SS, PR)\n",
    "                \n",
    "    def compute_pos_and_speed(self, moving_average = False):\n",
    "        self.speeds_MDN = np.array([[]]) \n",
    "        self.speeds_SS = np.array([[]]) \n",
    "        self.speeds_PR = np.array([[]])\n",
    "        for fly_ in self.flies:\n",
    "            all_MDN, all_SS, all_PR = fly_.compute_pos_and_speed(self, moving_average)\n",
    "            self.speeds_MDN = np.concatenate((self.speeds_MDN, all_MDN), axis=0) if self.speeds_MDN.size else all_MDN\n",
    "            self.speeds_SS = np.concatenate((self.speeds_SS, all_SS), axis=0) if self.speeds_SS.size else all_SS\n",
    "            self.speeds_PR = np.concatenate((self.speeds_PR, all_PR), axis=0) if self.speeds_PR.size else all_PR\n",
    "            \n",
    "            \n",
    "    def compute_claws(self, moving_average = False):\n",
    "        for fly_ in self.flies:\n",
    "            fly_.compute_claws(self, moving_average)\n",
    "\n",
    "    def compute_frequencies(self, moving_average = False):\n",
    "        self.claws_MDN_x = [np.array([[]])]*len(self.claws_name) # list of size #claws * (#fly*#replicates/fly) * #nb_data\n",
    "        self.claws_MDN_y = [np.array([[]])]*len(self.claws_name) # list of size #claws * (#fly*#replicates/fly) * #nb_data\n",
    "        self.claws_SS_x = [np.array([[]])]*len(self.claws_name) # list of size #claws * (#fly*#replicates/fly) * #nb_data\n",
    "        self.claws_SS_y = [np.array([[]])]*len(self.claws_name) # list of size #claws * (#fly*#replicates/fly) * #nb_data\n",
    "        self.claws_PR_x = [np.array([[]])]*len(self.claws_name) # list of size #claws * (#fly*#replicates/fly) * #nb_data\n",
    "        self.claws_PR_y = [np.array([[]])]*len(self.claws_name) # list of size #claws * (#fly*#replicates/fly) * #nb_data\n",
    "        for claw in range(len(self.claws_name)):\n",
    "            for fly_ in self.flies:\n",
    "                #Sorry for the following lines.... :(\n",
    "                claws_MDN_x, claws_MDN_y, claws_SS_x, claws_SS_y, claws_PR_x, claws_PR_y = fly_.compute_frequencies(claw)\n",
    "                self.claws_MDN_x[claw] = np.concatenate((self.claws_MDN_x[claw], compute_frequency(claws_MDN_x, moving_average, self.width_mov_av_claw_freq)), axis=0) if self.claws_MDN_x[claw].size else compute_frequency(claws_MDN_x, moving_average, self.width_mov_av_claw_freq)\n",
    "                self.claws_MDN_y[claw] = np.concatenate((self.claws_MDN_y[claw], compute_frequency(claws_MDN_y, moving_average, self.width_mov_av_claw_freq)), axis=0) if self.claws_MDN_y[claw].size else compute_frequency(claws_MDN_y, moving_average, self.width_mov_av_claw_freq)\n",
    "                self.claws_SS_x[claw] = np.concatenate((self.claws_SS_x[claw], compute_frequency(claws_SS_x, moving_average, self.width_mov_av_claw_freq)), axis=0) if self.claws_SS_x[claw].size else compute_frequency(claws_SS_x, moving_average, self.width_mov_av_claw_freq)\n",
    "                self.claws_SS_y[claw] = np.concatenate((self.claws_SS_y[claw], compute_frequency(claws_SS_y, moving_average, self.width_mov_av_claw_freq)), axis=0) if self.claws_SS_y[claw].size else compute_frequency(claws_SS_y, moving_average, self.width_mov_av_claw_freq)\n",
    "                self.claws_PR_x[claw] = np.concatenate((self.claws_PR_x[claw], compute_frequency(claws_PR_x, moving_average, self.width_mov_av_claw_freq)), axis=0) if self.claws_PR_x[claw].size else compute_frequency(claws_SS_y, moving_average, self.width_mov_av_claw_freq)\n",
    "                self.claws_PR_y[claw] = np.concatenate((self.claws_PR_y[claw], compute_frequency(claws_PR_y, moving_average, self.width_mov_av_claw_freq)), axis=0) if self.claws_PR_y[claw].size else compute_frequency(claws_PR_y, moving_average, self.width_mov_av_claw_freq)\n",
    "        \n",
    "            \n",
    "    def plot_speeds(self, fly = None, MDN = False, SS = False, PR = False, display_background = True):\n",
    "        if fly is None:\n",
    "            self.plot_speeds_stats(MDN, SS, PR, display_background)\n",
    "        else:\n",
    "            for fly_nb in fly:\n",
    "                self.flies[fly_nb].plot_speeds(MDN, SS, PR, display_background)\n",
    "                \n",
    "    def plot_speeds_stats(self, MDN, SS, PR, display_background): \n",
    "        if MDN:\n",
    "            mean, sigma = self.speeds_MDN.mean(axis=0), self.speeds_MDN.std(axis=0)\n",
    "            fram = np.arange(len(mean))\n",
    "            plt.figure(figsize=(40, 10))\n",
    "            plt.plot(fram, mean, lw=2, color='r')\n",
    "            plt.fill_between(fram, mean+sigma, mean-sigma, facecolor='r', alpha=0.5)\n",
    "            plt.axhline(linewidth=1, color='grey')\n",
    "            plt.xlabel('Frame number')\n",
    "            plt.ylabel('Speed')\n",
    "            plt.title('Forward/backward speed (MDN data)', fontsize=16)\n",
    "            if display_background:\n",
    "                color_background(plt.gca(), self.replicates_MDN_sorted[0]['exp_stage'])\n",
    "            plt.show()\n",
    "        if SS:\n",
    "            mean, sigma = self.speeds_SS.mean(axis=0), self.speeds_SS.std(axis=0)\n",
    "            fram = np.arange(len(mean))\n",
    "            plt.figure(figsize=(40, 10))\n",
    "            plt.plot(fram, mean, lw=2, color='g')\n",
    "            plt.fill_between(fram, mean+sigma, mean-sigma, facecolor='g', alpha=0.5)\n",
    "            plt.axhline(linewidth=1, color='grey')\n",
    "            plt.xlabel('Frame number')\n",
    "            plt.ylabel('Speed')\n",
    "            plt.title('Forward/backward speed (SS data)', fontsize=16)\n",
    "            if display_background:\n",
    "                color_background(plt.gca(), self.replicates_SS_sorted[0]['exp_stage'])\n",
    "            plt.show()\n",
    "        if PR:\n",
    "            mean, sigma = self.speeds_PR.mean(axis=0), self.speeds_PR.std(axis=0)\n",
    "            fram = np.arange(len(mean))\n",
    "            plt.figure(figsize=(40, 10))\n",
    "            plt.plot(fram, mean, lw=2, color='b')\n",
    "            plt.fill_between(fram, mean+sigma, mean-sigma, facecolor='b', alpha=0.5)\n",
    "            plt.axhline(linewidth=1, color='grey')\n",
    "            plt.xlabel('Frame number')\n",
    "            plt.ylabel('Speed')\n",
    "            plt.title('Forward/backward speed (PR data)', fontsize=16)\n",
    "            if display_background:\n",
    "                color_background(plt.gca(), self.replicates_PR_sorted[0]['exp_stage'])\n",
    "            plt.show()\n",
    "    \n",
    "    def plot_angular_speeds(self, fly = None, MDN = False, SS = False, PR = False, display_background = True):\n",
    "        if fly is None:\n",
    "            for fly_ in self.flies:\n",
    "                fly_.plot_angular_speeds(MDN, SS, PR, display_background)\n",
    "        else:\n",
    "            for fly_nb in fly:\n",
    "                self.flies[fly_nb].plot_angular_speeds(MDN, SS, PR, display_background)\n",
    "\n",
    "           \n",
    "    def plot_claws(self, fly = None, MDN = False, SS = False, PR = False, display_background = False):\n",
    "        if fly is None:\n",
    "            for fly_ in self.flies:\n",
    "                fly_.plot_claws(MDN, SS, PR, display_background)\n",
    "        else:\n",
    "            for fly_nb in fly:\n",
    "                self.flies[fly_nb].plot_claws(MDN, SS, PR, display_background)\n",
    "        \n",
    "    def plot_claw_frequeny(self, MDN = False, SS = False, PR = False, display_background = False):\n",
    "        self.plot_frequency_stats(MDN, SS, PR, display_background)\n",
    "                \n",
    "    def plot_frequency_stats(self, MDN, SS, PR, display_background): \n",
    "        if MDN:\n",
    "            fig, axes = plt.subplots(1, len(self.claws_MDN_x), figsize = (60, 10))\n",
    "            for i, member_data in enumerate(self.claws_MDN_x):\n",
    "                mean, sigma = member_data.mean(axis=0), member_data.std(axis=0)\n",
    "                fram = np.arange(len(mean))\n",
    "                axes[i].plot(fram, mean, lw=2, color='r')\n",
    "                axes[i].fill_between(fram, mean+sigma, mean-sigma, facecolor='r', alpha=0.5)\n",
    "                axes[i].axhline(linewidth=1, color='grey')\n",
    "                axes[i].set_xlabel('Frame number')\n",
    "                axes[i].set_ylabel('Frequency [Hz]')\n",
    "                axes[i].set_title('{} frequency - x axis (MDN data)'.format(self.claws_name[i]), fontsize=16)\n",
    "                if display_background:\n",
    "                    color_background(axes[i], self.replicates_MDN_sorted[0]['exp_stage'])\n",
    "            \n",
    "            fig, axes = plt.subplots(1, len(self.claws_MDN_y), figsize = (60, 10))\n",
    "            for i, member_data in enumerate(self.claws_MDN_y):\n",
    "                mean, sigma = member_data.mean(axis=0), member_data.std(axis=0)\n",
    "                fram = np.arange(len(mean))\n",
    "                axes[i].plot(fram, mean, lw=2, color='r')\n",
    "                axes[i].fill_between(fram, mean+sigma, mean-sigma, facecolor='r', alpha=0.5)\n",
    "                axes[i].axhline(linewidth=1, color='grey')\n",
    "                axes[i].set_xlabel('Frame number')\n",
    "                axes[i].set_ylabel('Frequency [Hz]')\n",
    "                axes[i].set_title('{} frequency - y axis (MDN data)'.format(self.claws_name[i]), fontsize=16)\n",
    "                if display_background:\n",
    "                    color_background(axes[i], self.replicates_MDN_sorted[0]['exp_stage'])\n",
    "            plt.show()\n",
    "        if SS:\n",
    "            fig, axes = plt.subplots(1, len(self.claws_SS_x), figsize = (60, 10))\n",
    "            for i, member_data in enumerate(self.claws_SS_x):\n",
    "                mean, sigma = member_data.mean(axis=0), member_data.std(axis=0)\n",
    "                fram = np.arange(len(mean))\n",
    "                axes[i].plot(fram, mean, lw=2, color='g')\n",
    "                axes[i].fill_between(fram, mean+sigma, mean-sigma, facecolor='g', alpha=0.5)\n",
    "                axes[i].axhline(linewidth=1, color='grey')\n",
    "                axes[i].set_xlabel('Frame number')\n",
    "                axes[i].set_ylabel('Frequency [Hz]')\n",
    "                axes[i].set_title('{} frequency - x axis (SS data)'.format(self.claws_name[i]), fontsize=16)\n",
    "                if display_background:\n",
    "                    color_background(axes[i], self.replicates_SS_sorted[0]['exp_stage'])\n",
    "            \n",
    "            fig, axes = plt.subplots(1, len(self.claws_SS_y), figsize = (60, 10))\n",
    "            for i, member_data in enumerate(self.claws_SS_y):\n",
    "                mean, sigma = member_data.mean(axis=0), member_data.std(axis=0)\n",
    "                fram = np.arange(len(mean))\n",
    "                axes[i].plot(fram, mean, lw=2, color='g')\n",
    "                axes[i].fill_between(fram, mean+sigma, mean-sigma, facecolor='g', alpha=0.5)\n",
    "                axes[i].axhline(linewidth=1, color='grey')\n",
    "                axes[i].set_xlabel('Frame number')\n",
    "                axes[i].set_ylabel('Frequency [Hz]')\n",
    "                axes[i].set_title('{} frequency - y axis (SS data)'.format(self.claws_name[i]), fontsize=16)\n",
    "                if display_background:\n",
    "                    color_background(axes[i], self.replicates_SS_sorted[0]['exp_stage'])\n",
    "            plt.show()\n",
    "        if PR:\n",
    "            fig, axes = plt.subplots(1, len(self.claws_PR_x), figsize = (60, 10))\n",
    "            for i, member_data in enumerate(self.claws_PR_x):\n",
    "                mean, sigma = member_data.mean(axis=0), member_data.std(axis=0)\n",
    "                fram = np.arange(len(mean))\n",
    "                axes[i].plot(fram, mean, lw=2, color='b')\n",
    "                axes[i].fill_between(fram, mean+sigma, mean-sigma, facecolor='b', alpha=0.5)\n",
    "                axes[i].axhline(linewidth=1, color='grey')\n",
    "                axes[i].set_xlabel('Frame number')\n",
    "                axes[i].set_ylabel('Frequency [Hz]')\n",
    "                axes[i].set_title('{} frequency - x axis (PR data)'.format(self.claws_name[i]), fontsize=16)\n",
    "                if display_background:\n",
    "                    color_background(axes[i], self.replicates_PR_sorted[0]['exp_stage'])\n",
    "            \n",
    "            fig, axes = plt.subplots(1, len(self.claws_PR_y), figsize = (60, 10))\n",
    "            for i, member_data in enumerate(self.claws_PR_y):\n",
    "                mean, sigma = member_data.mean(axis=0), member_data.std(axis=0)\n",
    "                fram = np.arange(len(mean))\n",
    "                axes[i].plot(fram, mean, lw=2, color='b')\n",
    "                axes[i].fill_between(fram, mean+sigma, mean-sigma, facecolor='b', alpha=0.5)\n",
    "                axes[i].axhline(linewidth=1, color='grey')\n",
    "                axes[i].set_xlabel('Frame number')\n",
    "                axes[i].set_ylabel('Frequency [Hz]')\n",
    "                axes[i].set_title('{} frequency - y axis (PR data)'.format(self.claws_name[i]), fontsize=16)\n",
    "                if display_background:\n",
    "                    color_background(axes[i], self.replicates_PR_sorted[0]['exp_stage'])\n",
    "            plt.show()"
   ]
  },
  {
   "cell_type": "markdown",
   "metadata": {},
   "source": [
    "## Class Fly"
   ]
  },
  {
   "cell_type": "code",
   "execution_count": null,
   "metadata": {},
   "outputs": [],
   "source": [
    "class Fly:\n",
    "    def __init__(self, exp, id_):\n",
    "        self.id = id_\n",
    "        \n",
    "        self.replicates_nb_MDN = exp.data_MDN[exp.data_MDN['fly'] == id_]['replicate'].unique()\n",
    "        self.replicates_nb_SS = exp.data_SS[exp.data_SS['fly'] == id_]['replicate'].unique()\n",
    "        self.replicates_nb_PR = exp.data_PR[exp.data_PR['fly'] == id_]['replicate'].unique()\n",
    "        \n",
    "        self.replicates_MDN = [exp.replicates_MDN_sorted[i-1] for i in self.replicates_nb_MDN]\n",
    "        self.replicates_SS = [exp.replicates_SS_sorted[i-1] for i in self.replicates_nb_SS]\n",
    "        self.replicates_PR = [exp.replicates_PR_sorted[i-1] for i in self.replicates_nb_PR]\n",
    "        \n",
    "        self.compute_pos_and_speed(exp)\n",
    "        \n",
    "        self.claws_name = ['LFclaw', 'LMclaw', 'LHclaw', 'RFclaw', 'RMclaw', 'RHclaw']\n",
    "        #self.claws_name = ['LFtibiaTarsus', 'LMtibiaTarsus', 'LHtibiaTarsus', 'RFtibiaTarsus', 'RMtibiaTarsus', 'RHtibiaTarsus']\n",
    "        self.compute_claws(exp)\n",
    "    \n",
    "    def plot_positions(self, MDN = False, SS = False, PR = False):\n",
    "        if MDN:\n",
    "            plt.figure(figsize=(40, 10))\n",
    "            plt.suptitle('Position (MDN data)', fontsize=32)\n",
    "            for i, replicate_nb in zip(range(len(self.replicates_nb_MDN)), self.replicates_nb_MDN):\n",
    "                plt.subplot(1, len(self.replicates_nb_MDN), i + 1) \n",
    "                plt.plot(self.positions_MDN[i][0], self.positions_MDN[i][1], color= 'r')\n",
    "                plt.xlim(0, 832)\n",
    "                plt.ylim(0, 832)\n",
    "                plt.gca().invert_yaxis()\n",
    "                plt.xlabel('X-axis')\n",
    "                plt.ylabel('Y-axis')\n",
    "                plt.title('Fly {}: replicate {}'.format(self.id,  replicate_nb), fontsize=16)\n",
    "            plt.show()\n",
    "        if SS:\n",
    "            plt.figure(figsize=(40, 10))\n",
    "            plt.suptitle('Position (SS data)', fontsize=32)\n",
    "            for i, replicate_nb in zip(range(len(self.replicates_nb_SS)), self.replicates_nb_SS):\n",
    "                plt.subplot(1, len(self.replicates_nb_SS), i + 1) \n",
    "                plt.plot(self.positions_SS[i][0], self.positions_SS[i][1], color= 'g')\n",
    "                plt.xlim(0, 832)\n",
    "                plt.ylim(0, 832)\n",
    "                plt.gca().invert_yaxis()\n",
    "                plt.xlabel('X-axis')\n",
    "                plt.ylabel('Y-axis')\n",
    "                plt.title('Fly {}: replicate {}'.format(self.id,  replicate_nb), fontsize=16)\n",
    "            plt.show()\n",
    "        if PR:\n",
    "            plt.figure(figsize=(40, 10))\n",
    "            plt.suptitle('Position (PR data)', fontsize=32)\n",
    "            for i, replicate_nb in zip(range(len(self.replicates_nb_PR)), self.replicates_nb_PR):\n",
    "                plt.subplot(1, len(self.replicates_nb_PR), i + 1) \n",
    "                plt.plot(self.positions_PR[i][0], self.positions_PR[i][1], color= 'b')\n",
    "                plt.xlim(0, 832)\n",
    "                plt.ylim(0, 832)\n",
    "                plt.gca().invert_yaxis()\n",
    "                plt.xlabel('X-axis')\n",
    "                plt.ylabel('Y-axis')\n",
    "                plt.title('Fly {}: replicate {}'.format(self.id,  replicate_nb), fontsize=16)\n",
    "            plt.show()\n",
    "            \n",
    "    def plot_speeds(self, MDN = False, SS = False, PR = False, display_background = False):\n",
    "        if MDN:\n",
    "            plt.figure(figsize=(40, 10))\n",
    "            plt.suptitle('Forward/Backward Speed (MDN data)', fontsize=32)\n",
    "            for i, replicate_nb in zip(range(len(self.replicates_nb_MDN)), self.replicates_nb_MDN):\n",
    "                plt.subplot(1, len(self.replicates_nb_MDN), i + 1) \n",
    "                plt.plot(range(self.speeds_MDN[i].shape[0]), self.speeds_MDN[i], color= 'r')\n",
    "                plt.xlabel('Frame number')\n",
    "                plt.ylabel('Speed (Fly longitudinal axis)')\n",
    "                plt.title('Fly {}: replicate {} - moving average width : {}'.format(self.id,  replicate_nb, self.width_mov_av_speed if self.moving_average_speed else 'None'), fontsize=16)\n",
    "                plt.axhline(linewidth=1, color='grey')\n",
    "                if display_background:\n",
    "                    color_background(plt.gca(), self.replicates_MDN[i]['exp_stage'])\n",
    "                    plt.legend()\n",
    "            plt.show()\n",
    "        if SS:\n",
    "            plt.figure(figsize=(40, 10))\n",
    "            plt.suptitle('Forward/Backward Speed (SS data)', fontsize=32)\n",
    "            for i, replicate_nb in zip(range(len(self.replicates_nb_SS)), self.replicates_nb_SS):\n",
    "                plt.subplot(1, len(self.replicates_nb_SS), i + 1) \n",
    "                plt.plot(range(self.speeds_SS[i].shape[0]), self.speeds_SS[i], color= 'g')\n",
    "                plt.xlabel('Frame number')\n",
    "                plt.ylabel('Speed (Fly longitudinal axis)')\n",
    "                plt.title('Fly {}: replicate {} - moving average width : {}'.format(self.id,  replicate_nb, self.width_mov_av_speed if self.moving_average_speed else 'None'), fontsize=16)\n",
    "                plt.axhline(linewidth=1, color='k')\n",
    "                if display_background:\n",
    "                    color_background(plt.gca(), self.replicates_SS[i]['exp_stage'])\n",
    "                    plt.legend()\n",
    "            plt.show()\n",
    "        if PR:\n",
    "            plt.figure(figsize=(40, 10))\n",
    "            plt.suptitle('Forward/Backward Speed (PR data)', fontsize=32)\n",
    "            for i, replicate_nb in zip(range(len(self.replicates_nb_PR)), self.replicates_nb_PR):\n",
    "                plt.subplot(1, len(self.replicates_nb_PR), i + 1) \n",
    "                plt.plot(range(self.speeds_PR[i].shape[0]), self.speeds_PR[i], color= 'b')\n",
    "                plt.xlabel('Frame number')\n",
    "                plt.ylabel('Speed (Fly longitudinal axis)')\n",
    "                plt.title('Fly {}: replicate {} - moving average width : {}'.format(self.id,  replicate_nb, self.width_mov_av_speed if self.moving_average_ang_speed else 'None'), fontsize=16)\n",
    "                plt.axhline(linewidth=1, color='k')\n",
    "                if display_background:\n",
    "                    color_background(plt.gca(), self.replicates_PR[i]['exp_stage'])\n",
    "                    plt.legend()\n",
    "            plt.show()\n",
    "    \n",
    "    def plot_angular_speeds(self, MDN = False, SS = False, PR = False, display_background = False):\n",
    "        if MDN:\n",
    "            plt.figure(figsize=(40, 10))\n",
    "            plt.suptitle('Angular Speed (MDN data)', fontsize=32)\n",
    "            for i, replicate_nb in zip(range(len(self.replicates_nb_MDN)), self.replicates_nb_MDN):\n",
    "                plt.subplot(1, len(self.replicates_nb_MDN), i + 1) \n",
    "                plt.plot(range(self.ang_speeds_MDN[i].shape[0]), self.ang_speeds_MDN[i], color= 'r')\n",
    "                plt.xlabel('Frame number')\n",
    "                plt.ylabel('Angular speed (deg/s)')\n",
    "                plt.title('Fly {}: replicate {} - moving average width : {}'.format(self.id,  replicate_nb, self.width_mov_av_ang_speed if self.moving_average_ang_speed else 'None'), fontsize=16)\n",
    "                plt.axhline(linewidth=1, color='grey')\n",
    "                if display_background:\n",
    "                    color_background(plt.gca(), self.replicates_MDN[i]['exp_stage'])\n",
    "                    plt.legend()\n",
    "            plt.show()\n",
    "        if SS:\n",
    "            plt.figure(figsize=(40, 10))\n",
    "            plt.suptitle('Angular Speed (SS data)', fontsize=32)\n",
    "            for i, replicate_nb in zip(range(len(self.replicates_nb_SS)), self.replicates_nb_SS):\n",
    "                plt.subplot(1, len(self.replicates_nb_SS), i + 1) \n",
    "                plt.plot(range(self.ang_speeds_SS[i].shape[0]), self.ang_speeds_SS[i], color= 'g')\n",
    "                plt.xlabel('Frame number')\n",
    "                plt.ylabel('Angular speed (deg/s)')\n",
    "                plt.title('Fly {}: replicate {} - moving average width : {}'.format(self.id,  replicate_nb, self.width_mov_av_ang_speed if self.moving_average_ang_speed else 'None'), fontsize=16)\n",
    "                plt.axhline(linewidth=1, color='k')\n",
    "                if display_background:\n",
    "                    color_background(plt.gca(), self.replicates_SS[i]['exp_stage'])\n",
    "                    plt.legend()\n",
    "            plt.show()\n",
    "        if PR:\n",
    "            plt.figure(figsize=(40, 10))\n",
    "            plt.suptitle('Angular Speed (PR data)', fontsize=32)\n",
    "            for i, replicate_nb in zip(range(len(self.replicates_nb_PR)), self.replicates_nb_PR):\n",
    "                plt.subplot(1, len(self.replicates_nb_PR), i + 1) \n",
    "                plt.plot(range(self.ang_speeds_PR[i].shape[0]), self.ang_speeds_PR[i], color= 'b')\n",
    "                plt.xlabel('Frame number')\n",
    "                plt.ylabel('Angular speed (deg/s)')\n",
    "                plt.title('Fly {}: replicate {} - moving average width : {}'.format(self.id,  replicate_nb, self.width_mov_av_ang_speed if self.moving_average_ang_speed else 'None'), fontsize=16)\n",
    "                plt.axhline(linewidth=1, color='k')\n",
    "                if display_background:\n",
    "                    color_background(plt.gca(), self.replicates_PR[i]['exp_stage'])\n",
    "                    plt.legend()\n",
    "            plt.show()\n",
    "            \n",
    "    def plot_claws(self, MDN = False, SS = False, PR = False, display_background = False):\n",
    "        if MDN:\n",
    "            plt.figure(figsize=(40, 20))\n",
    "            plt.suptitle('Claws position (MDN data)', fontsize=32)\n",
    "            for i, replicate_nb in zip(range(len(self.replicates_nb_MDN)), self.replicates_nb_MDN):\n",
    "                plt.subplot(2, len(self.replicates_nb_MDN), i + 1) \n",
    "                for j in range(len(self.claws_name)):\n",
    "                    plt.plot(range(self.positions_claws_MDN[i][j][1].shape[0]), self.positions_claws_MDN[i][j][1], label=self.claws_name[j])\n",
    "                plt.gca().invert_yaxis()\n",
    "                plt.xlabel('Frame number')\n",
    "                plt.ylabel('Claws position (y axis)')\n",
    "                plt.title('Fly {}: replicate {} - moving average width : {} (Y-axis)'.format(self.id,  replicate_nb, self.width_mov_av_claw if self.moving_average_claw else 'None'), fontsize=16)\n",
    "                if display_background:\n",
    "                    color_background(plt.gca(), self.replicates_MDN[i]['exp_stage'])\n",
    "                plt.legend()\n",
    "                \n",
    "                plt.subplot(2, len(self.replicates_nb_MDN), i + len(self.replicates_nb_MDN) + 1) \n",
    "                for j in range(len(self.claws_name)):\n",
    "                    plt.plot(self.positions_claws_MDN[i][j][0], range(self.positions_claws_MDN[i][j][0].shape[0]), label=self.claws_name[j])\n",
    "                plt.gca().invert_yaxis()\n",
    "                plt.xlabel('Claws position (x axis)')\n",
    "                plt.ylabel('Frame number')\n",
    "                plt.title('Fly {}: replicate {} - moving average width : {} (X-axis)'.format(self.id,  replicate_nb, self.width_mov_av_claw if self.moving_average_claw else 'None'), fontsize=16)\n",
    "                if display_background:\n",
    "                    color_background(plt.gca(), self.replicates_MDN[i]['exp_stage'], False)\n",
    "                plt.legend()\n",
    "            plt.show()\n",
    "        if SS:\n",
    "            plt.figure(figsize=(40, 20))\n",
    "            plt.suptitle('Claws position (SS data)', fontsize=32)\n",
    "            for i, replicate_nb in zip(range(len(self.replicates_nb_SS)), self.replicates_nb_SS):\n",
    "                plt.subplot(2, len(self.replicates_nb_SS), i + 1) \n",
    "                for j in range(len(self.claws_name)):\n",
    "                    plt.plot(range(self.positions_claws_SS[i][j][1].shape[0]), self.positions_claws_SS[i][j][1], label=self.claws_name[j])\n",
    "                plt.gca().invert_yaxis()\n",
    "                plt.xlabel('Frame number')\n",
    "                plt.ylabel('Claws position (y axis)')\n",
    "                plt.title('Fly {}: replicate {} - moving average width : {} (Y-axis)'.format(self.id,  replicate_nb, self.width_mov_av_claw if self.moving_average_claw else 'None'), fontsize=16)\n",
    "                if display_background:\n",
    "                    color_background(plt.gca(), self.replicates_SS[i]['exp_stage'])\n",
    "                plt.legend()\n",
    "                \n",
    "                plt.subplot(2, len(self.replicates_nb_SS), i + len(self.replicates_nb_SS) + 1) \n",
    "                for j in range(len(self.claws_name)):\n",
    "                    plt.plot(self.positions_claws_SS[i][j][0], range(self.positions_claws_SS[i][j][0].shape[0]), label=self.claws_name[j])\n",
    "                plt.gca().invert_yaxis()\n",
    "                plt.xlabel('Claws position (x axis)')\n",
    "                plt.ylabel('Frame number')\n",
    "                plt.title('Fly {}: replicate {} - moving average width : {} (X-axis)'.format(self.id,  replicate_nb, self.width_mov_av_claw if self.moving_average_claw else 'None'), fontsize=16)\n",
    "                if display_background:\n",
    "                    color_background(plt.gca(), self.replicates_SS[i]['exp_stage'], False)\n",
    "                plt.legend()\n",
    "            plt.show()\n",
    "        if PR:\n",
    "            plt.figure(figsize=(40, 20))\n",
    "            plt.suptitle('Claws position (PR data)', fontsize=32)\n",
    "            for i, replicate_nb in zip(range(len(self.replicates_nb_PR)), self.replicates_nb_PR):\n",
    "                plt.subplot(2, len(self.replicates_nb_PR), i + 1) \n",
    "                for j in range(len(self.claws_name)):\n",
    "                    plt.plot(range(self.positions_claws_PR[i][j][1].shape[0]), self.positions_claws_PR[i][j][1], label=self.claws_name[j])\n",
    "                plt.gca().invert_yaxis()\n",
    "                plt.xlabel('Frame number')\n",
    "                plt.ylabel('Claws position (y axis)')\n",
    "                plt.title('Fly {}: replicate {} - moving average width : {} (Y-axis)'.format(self.id,  replicate_nb, self.width_mov_av_claw if self.moving_average_claw else 'None'), fontsize=16)\n",
    "                plt.legend(self.claws_name)\n",
    "                if display_background:\n",
    "                    color_background(plt.gca(), self.replicates_PR[i]['exp_stage'])\n",
    "                plt.legend()\n",
    "                \n",
    "                plt.subplot(2, len(self.replicates_nb_PR), i + len(self.replicates_nb_PR) + 1) \n",
    "                for j in range(len(self.claws_name)):\n",
    "                    plt.plot(self.positions_claws_PR[i][j][0], range(self.positions_claws_PR[i][j][0].shape[0]), label=self.claws_name[j])\n",
    "                plt.gca().invert_yaxis()\n",
    "                plt.xlabel('Claws position (x axis)')\n",
    "                plt.ylabel('Frame number')\n",
    "                plt.title('Fly {}: replicate {} - moving average width : {} (X-axis)'.format(self.id,  replicate_nb, self.width_mov_av_claw if self.moving_average_claw else 'None'), fontsize=16)\n",
    "                if display_background:\n",
    "                    color_background(plt.gca(), self.replicates_PR[i]['exp_stage'], False)\n",
    "                plt.legend()\n",
    "            plt.show()\n",
    "                \n",
    "    def compute_pos_and_speed(self, exp, moving_average = False):\n",
    "        self.positions_MDN = self.compute_position(self.replicates_MDN)\n",
    "        self.positions_SS = self.compute_position(self.replicates_SS)\n",
    "        self.positions_PR = self.compute_position(self.replicates_PR)\n",
    "        \n",
    "        self.speeds_MDN = self.compute_speed(self.replicates_MDN, exp, moving_average)\n",
    "        self.speeds_SS = self.compute_speed(self.replicates_SS, exp, moving_average)\n",
    "        self.speeds_PR = self.compute_speed(self.replicates_PR, exp, moving_average)\n",
    "        \n",
    "        self.ang_speeds_MDN = self.compute_angular_speed(self.replicates_MDN, exp, moving_average)\n",
    "        self.ang_speeds_SS = self.compute_angular_speed(self.replicates_SS, exp, moving_average)\n",
    "        self.ang_speeds_PR = self.compute_angular_speed(self.replicates_PR, exp, moving_average)\n",
    "        \n",
    "        # Used to compute mean and variance\n",
    "        all_speed_MDN = []\n",
    "        all_speed_SS = []\n",
    "        all_speed_PR = []\n",
    "        nb_data_MDN = min([len(data) for data in self.speeds_MDN])\n",
    "        nb_data_PR = min([len(data) for data in self.speeds_PR])\n",
    "        for speed_MDN, speed_PR in zip(self.speeds_MDN, self.speeds_PR):\n",
    "            all_speed_MDN.append(speed_MDN[:nb_data_MDN])\n",
    "            all_speed_PR.append(speed_PR[:nb_data_PR])\n",
    "        nb_data_SS = min([len(data) for data in self.speeds_SS])\n",
    "        for speed_SS in self.speeds_SS:            \n",
    "            all_speed_SS.append(speed_SS[:nb_data_SS])\n",
    "        return (np.asarray(all_speed_MDN), np.asarray(all_speed_SS), np.asarray(all_speed_PR))\n",
    "    \n",
    "    def compute_claws(self, exp, moving_average = False):\n",
    "        self.positions_claws_MDN = self.compute_position_claws(self.replicates_MDN, exp, moving_average)\n",
    "        self.positions_claws_SS = self.compute_position_claws(self.replicates_SS, exp, moving_average)\n",
    "        self.positions_claws_PR = self.compute_position_claws(self.replicates_PR, exp, moving_average)\n",
    "        \n",
    "    def compute_frequencies(self, claw = 0):\n",
    "        # Used to compute frequency, mean and variance\n",
    "        claws_MDN_x, claws_MDN_y = ([], [])\n",
    "        claws_SS_x, claws_SS_y = ([], [])\n",
    "        claws_PR_x, claws_PR_y = ([], [])\n",
    "        nb_data = min([len(data[0][0]) for data in self.positions_claws_MDN] \\\n",
    "                      + [len(data[0][0]) for data in self.positions_claws_SS] \\\n",
    "                      + [len(data[0][0]) for data in self.positions_claws_PR])\n",
    "        for claw_MDN, claw_SS in zip(self.positions_claws_MDN, self.positions_claws_SS):\n",
    "            claws_MDN_x.append(claw_MDN[claw][0][:nb_data])\n",
    "            claws_MDN_y.append(claw_MDN[claw][1][:nb_data])\n",
    "            claws_SS_x.append(claw_SS[claw][0][:nb_data])\n",
    "            claws_SS_y.append(claw_SS[claw][1][:nb_data])\n",
    "        for claw_PR in self.positions_claws_PR:\n",
    "            claws_PR_x.append(claw_MDN[claw][0][:nb_data])\n",
    "            claws_PR_y.append(claw_MDN[claw][1][:nb_data])\n",
    "        claws_MDN_x = np.asarray(claws_MDN_x)\n",
    "        claws_MDN_y = np.asarray(claws_MDN_y)\n",
    "        claws_SS_x = np.asarray(claws_SS_x)\n",
    "        claws_SS_y = np.asarray(claws_SS_y)\n",
    "        claws_PR_x = np.asarray(claws_PR_x)\n",
    "        claws_PR_y = np.asarray(claws_PR_y)\n",
    "        return claws_MDN_x, claws_MDN_y, claws_SS_x, claws_SS_y, claws_PR_x, claws_PR_y\n",
    "        \n",
    "    def compute_position(self, replicates):\n",
    "        return [[replicate['center','pos' + ax] for ax in ['x', 'y']] for replicate in replicates]\n",
    "    \n",
    "    def compute_speed(self, replicates, exp, moving_average = False):\n",
    "        self.width_mov_av_speed = exp.width_mov_av_speed\n",
    "        self.moving_average_speed = moving_average\n",
    "        positions = [[sub_to_itself(replicate['center','pos' + ax]) for ax in ['x', 'y']] for replicate in replicates]\n",
    "        fly_orientations = [replicate['center','orientation'] for replicate in replicates]\n",
    "        \n",
    "        speed_magnitudes = [np.sqrt(pos[0]**2 + pos[1]**2) * exp.pixel_to_mm / exp.dt for pos in positions]\n",
    "        speed_angles = [(np.arctan2(pos[0], -pos[1]) * 180 / np.pi + 360) % 360  for pos in positions]\n",
    "        angles = [(speed_angle - fly_orientation + 180) % 360 - 180 for speed_angle, fly_orientation in zip(speed_angles, fly_orientations)]\n",
    "\n",
    "        if self.moving_average_speed:\n",
    "            ma_filter = np.ones(self.width_mov_av_speed) / self.width_mov_av_speed\n",
    "            speed_magnitudes = [np.convolve(speed_magnitude, ma_filter, 'same') for speed_magnitude in speed_magnitudes]\n",
    "            projection_ratio = [np.convolve(np.cos(angle * np.pi/180), ma_filter, 'same') for angle in angles]\n",
    "            return [ratio * speed_magnitude for ratio, speed_magnitude in zip(projection_ratio, speed_magnitudes)]\n",
    "        \n",
    "        return [np.cos(angle * np.pi/180) * speed_magnitude for angle, speed_magnitude in zip(angles, speed_magnitudes)]\n",
    "    \n",
    "    def compute_angular_speed(self, replicates, exp, moving_average = False):\n",
    "        self.width_mov_av_ang_speed = exp.width_mov_av_ang_speed\n",
    "        self.moving_average_ang_speed = moving_average\n",
    "        \n",
    "        fly_angular_speeds = [(sub_to_itself(replicate['center','orientation'])+540)%360-180 for replicate in replicates]\n",
    "\n",
    "        if self.moving_average_ang_speed:\n",
    "            ma_filter = np.ones(self.width_mov_av_ang_speed) / self.width_mov_av_ang_speed\n",
    "            return [np.convolve(fly_ang_speed, ma_filter, 'same') for fly_ang_speed in fly_angular_speeds]\n",
    "        \n",
    "        return fly_angular_speeds\n",
    "\n",
    "    def compute_position_claws(self, replicates, exp, moving_average = False):\n",
    "        self.width_mov_av_claw = exp.width_mov_av_claw\n",
    "        self.moving_average_claw = moving_average\n",
    "        if moving_average:\n",
    "            ma_filter = np.ones(self.width_mov_av_claw) / self.width_mov_av_claw\n",
    "            return [[[np.convolve(replicate[claws, ax], ma_filter, 'same') for ax in ['x', 'y']] for claws in self.claws_name] for replicate in replicates]\n",
    "        return [[[replicate[claws, ax] for ax in ['x', 'y']] for claws in self.claws_name] for replicate in replicates]\n",
    "    "
   ]
  },
  {
   "cell_type": "markdown",
   "metadata": {},
   "source": [
    "## Data analysis"
   ]
  },
  {
   "cell_type": "code",
   "execution_count": null,
   "metadata": {},
   "outputs": [],
   "source": [
    "# Create experiment and load data \n",
    "exp = Experiment(mov_av = 30)"
   ]
  },
  {
   "cell_type": "code",
   "execution_count": null,
   "metadata": {},
   "outputs": [],
   "source": [
    "# Include only stage with true value and update data\n",
    "exp.include_stage_and_update_data(off0 = True, on0 = True, \\\n",
    "                                  off1 = True, on1 = True, \\\n",
    "                                  off2 = True, on2 = True, \\\n",
    "                                  off3 = True)"
   ]
  },
  {
   "cell_type": "code",
   "execution_count": null,
   "metadata": {
    "scrolled": false
   },
   "outputs": [],
   "source": [
    "# Create differents flies with given id\n",
    "exp.add_fly(Fly(exp, id_ = 0))\n",
    "exp.add_fly(Fly(exp, id_ = 1))\n",
    "exp.add_fly(Fly(exp, id_ = 2))"
   ]
  },
  {
   "cell_type": "code",
   "execution_count": null,
   "metadata": {},
   "outputs": [],
   "source": [
    "#exp.replicates_MDN_sorted[0].head()\n"
   ]
  },
  {
   "cell_type": "markdown",
   "metadata": {},
   "source": [
    "## 2. Question 1a"
   ]
  },
  {
   "cell_type": "markdown",
   "metadata": {},
   "source": [
    "#### Fly position"
   ]
  },
  {
   "cell_type": "markdown",
   "metadata": {},
   "source": [
    "#### i. MDN data"
   ]
  },
  {
   "cell_type": "code",
   "execution_count": null,
   "metadata": {
    "scrolled": false
   },
   "outputs": [],
   "source": [
    "exp.plot_positions(fly = [0,1,2], MDN = True) # fly can be None, or a list of fly id (i.e. [0,2])"
   ]
  },
  {
   "cell_type": "markdown",
   "metadata": {},
   "source": [
    "#### ii. SS data"
   ]
  },
  {
   "cell_type": "code",
   "execution_count": null,
   "metadata": {},
   "outputs": [],
   "source": [
    "exp.plot_positions(fly = [0,1,2], SS = True) # fly can be None, or a list of fly id (i.e. [0,2])"
   ]
  },
  {
   "cell_type": "markdown",
   "metadata": {},
   "source": [
    "#### iii. PR data"
   ]
  },
  {
   "cell_type": "code",
   "execution_count": null,
   "metadata": {},
   "outputs": [],
   "source": [
    "exp.plot_positions(fly = [0,1,2], PR = True) # fly can be None, of a list of fly id (i.e. [0,2])"
   ]
  },
  {
   "cell_type": "markdown",
   "metadata": {},
   "source": [
    "## 2. Question 1b"
   ]
  },
  {
   "cell_type": "markdown",
   "metadata": {},
   "source": [
    "##### the forward / backward speed over time"
   ]
  },
  {
   "cell_type": "code",
   "execution_count": null,
   "metadata": {},
   "outputs": [],
   "source": [
    "moving_average = True\n",
    "exp.width_mov_av_speed = 100\n",
    "display_background = True "
   ]
  },
  {
   "cell_type": "code",
   "execution_count": null,
   "metadata": {},
   "outputs": [],
   "source": [
    "exp.compute_pos_and_speed(moving_average = moving_average)"
   ]
  },
  {
   "cell_type": "markdown",
   "metadata": {},
   "source": [
    "#### i. Data statistics"
   ]
  },
  {
   "cell_type": "code",
   "execution_count": null,
   "metadata": {},
   "outputs": [],
   "source": [
    "# fly = None will plot statistics\n",
    "exp.plot_speeds(fly = None, MDN = True, SS = True, PR = True)"
   ]
  },
  {
   "cell_type": "markdown",
   "metadata": {},
   "source": [
    "#### ii. MDN data"
   ]
  },
  {
   "cell_type": "code",
   "execution_count": null,
   "metadata": {},
   "outputs": [],
   "source": [
    "# fly can be None (statistics), or a list of fly id (i.e. [0,2])\n",
    "exp.plot_speeds(fly = [0,1,2], MDN = True, display_background = display_background)"
   ]
  },
  {
   "cell_type": "markdown",
   "metadata": {},
   "source": [
    "#### iii. SS data"
   ]
  },
  {
   "cell_type": "code",
   "execution_count": null,
   "metadata": {},
   "outputs": [],
   "source": [
    "# fly can be None (statistics), or a list of fly id (i.e. [0,2])\n",
    "exp.plot_speeds(fly = [0,1,2], SS = True, display_background = display_background)"
   ]
  },
  {
   "cell_type": "markdown",
   "metadata": {},
   "source": [
    "#### iv. PR data"
   ]
  },
  {
   "cell_type": "code",
   "execution_count": null,
   "metadata": {},
   "outputs": [],
   "source": [
    "# fly can be None (statistics), or a list of fly id (i.e. [0,2])\n",
    "exp.plot_speeds(fly = [0,1,2], PR = True, display_background = display_background)"
   ]
  },
  {
   "cell_type": "markdown",
   "metadata": {},
   "source": [
    "the angular speed over time"
   ]
  },
  {
   "cell_type": "code",
   "execution_count": null,
   "metadata": {},
   "outputs": [],
   "source": [
    "moving_average = True\n",
    "exp.width_mov_av_ang_speed = 20\n",
    "display_background = True "
   ]
  },
  {
   "cell_type": "code",
   "execution_count": null,
   "metadata": {},
   "outputs": [],
   "source": [
    "exp.compute_pos_and_speed(moving_average = moving_average)"
   ]
  },
  {
   "cell_type": "markdown",
   "metadata": {},
   "source": [
    "#### i. MDN data"
   ]
  },
  {
   "cell_type": "code",
   "execution_count": null,
   "metadata": {},
   "outputs": [],
   "source": [
    "# fly can be None, or a list of fly id (i.e. [0,2])\n",
    "exp.plot_angular_speeds(fly = [0,1,2], MDN = True, display_background = display_background)"
   ]
  },
  {
   "cell_type": "markdown",
   "metadata": {},
   "source": [
    "#### ii. SS data"
   ]
  },
  {
   "cell_type": "code",
   "execution_count": null,
   "metadata": {},
   "outputs": [],
   "source": [
    "# fly can be None, or a list of fly id (i.e. [0,2])\n",
    "exp.plot_angular_speeds(fly = [0,1,2], SS = True, display_background = display_background)"
   ]
  },
  {
   "cell_type": "markdown",
   "metadata": {},
   "source": [
    "#### iii. PR data"
   ]
  },
  {
   "cell_type": "code",
   "execution_count": null,
   "metadata": {},
   "outputs": [],
   "source": [
    "# fly can be None, or a list of fly id (i.e. [0,2])\n",
    "exp.plot_angular_speeds(fly = [0,1,2], PR = True, display_background = display_background)"
   ]
  },
  {
   "cell_type": "markdown",
   "metadata": {},
   "source": [
    "## Question 2.a"
   ]
  },
  {
   "cell_type": "markdown",
   "metadata": {},
   "source": [
    "#### Claw position "
   ]
  },
  {
   "cell_type": "code",
   "execution_count": null,
   "metadata": {},
   "outputs": [],
   "source": [
    "moving_average = False\n",
    "exp.width_mov_av_claw = 20\n",
    "display_background = True"
   ]
  },
  {
   "cell_type": "code",
   "execution_count": null,
   "metadata": {},
   "outputs": [],
   "source": [
    "exp.compute_claws(moving_average = moving_average)"
   ]
  },
  {
   "cell_type": "code",
   "execution_count": null,
   "metadata": {},
   "outputs": [],
   "source": [
    "# fly can be None, of a list of fly id (i.e. [0,2])\n",
    "exp.plot_claws(fly = [0,1,2], MDN = True, display_background = display_background)"
   ]
  },
  {
   "cell_type": "code",
   "execution_count": null,
   "metadata": {},
   "outputs": [],
   "source": [
    "# fly can be None, of a list of fly id (i.e. [0,2])\n",
    "exp.plot_claws(fly = [0,1,2], SS = True, display_background = display_background)"
   ]
  },
  {
   "cell_type": "code",
   "execution_count": null,
   "metadata": {},
   "outputs": [],
   "source": [
    "# fly can be None, of a list of fly id (i.e. [0,2])\n",
    "exp.plot_claws(fly = [0,1,2], PR = True, display_background = display_background)"
   ]
  },
  {
   "cell_type": "markdown",
   "metadata": {},
   "source": [
    "#### Claw frequency"
   ]
  },
  {
   "cell_type": "code",
   "execution_count": null,
   "metadata": {
    "scrolled": false
   },
   "outputs": [],
   "source": [
    "moving_average = False\n",
    "exp.width_mov_av_claw = 40"
   ]
  },
  {
   "cell_type": "code",
   "execution_count": null,
   "metadata": {},
   "outputs": [],
   "source": [
    "exp.compute_claws(moving_average = moving_average)"
   ]
  },
  {
   "cell_type": "code",
   "execution_count": null,
   "metadata": {},
   "outputs": [],
   "source": [
    "moving_average = True\n",
    "exp.width_mov_av_claw_freq = 20\n",
    "display_background = True"
   ]
  },
  {
   "cell_type": "code",
   "execution_count": null,
   "metadata": {},
   "outputs": [],
   "source": [
    "exp.compute_frequencies(moving_average = moving_average)"
   ]
  },
  {
   "cell_type": "code",
   "execution_count": null,
   "metadata": {},
   "outputs": [],
   "source": [
    "exp.plot_claw_frequeny(MDN = True, display_background = display_background)"
   ]
  },
  {
   "cell_type": "code",
   "execution_count": null,
   "metadata": {},
   "outputs": [],
   "source": [
    "exp.plot_claw_frequeny(SS = True, display_background = display_background)"
   ]
  },
  {
   "cell_type": "code",
   "execution_count": null,
   "metadata": {},
   "outputs": [],
   "source": [
    "exp.plot_claw_frequeny(PR = True, display_background = display_background)"
   ]
  },
  {
   "cell_type": "code",
   "execution_count": null,
   "metadata": {},
   "outputs": [],
   "source": []
  },
  {
   "cell_type": "code",
   "execution_count": null,
   "metadata": {},
   "outputs": [],
   "source": []
  }
 ],
 "metadata": {
  "kernelspec": {
   "display_name": "Python 3",
   "language": "python",
   "name": "python3"
  },
  "language_info": {
   "codemirror_mode": {
    "name": "ipython",
    "version": 3
   },
   "file_extension": ".py",
   "mimetype": "text/x-python",
   "name": "python",
   "nbconvert_exporter": "python",
   "pygments_lexer": "ipython3",
   "version": "3.7.6"
  }
 },
 "nbformat": 4,
 "nbformat_minor": 4
}

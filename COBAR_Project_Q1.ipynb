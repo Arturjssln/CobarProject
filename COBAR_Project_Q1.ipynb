{
 "cells": [
  {
   "cell_type": "markdown",
   "metadata": {},
   "source": [
    "# COBAR Project \n",
    "\n",
    "Authors: Célia Benquet, Artur Jesslen & Léa Schmidt"
   ]
  },
  {
   "cell_type": "markdown",
   "metadata": {},
   "source": [
    "## Import library"
   ]
  },
  {
   "cell_type": "code",
   "execution_count": null,
   "metadata": {},
   "outputs": [],
   "source": [
    "import pickle\n",
    "import matplotlib.pyplot as plt\n",
    "import pickle\n",
    "import numpy as np\n",
    "import pandas as pd \n",
    "import seaborn as sns\n",
    "from scipy import signal"
   ]
  },
  {
   "cell_type": "markdown",
   "metadata": {},
   "source": [
    "## Class experiment"
   ]
  },
  {
   "cell_type": "code",
   "execution_count": null,
   "metadata": {},
   "outputs": [],
   "source": [
    "class Experiment:\n",
    "    def __init__(self, mov_av = 30):\n",
    "        self.load_data()\n",
    "        self.stage_name = ['off0', 'on0', 'off1', 'on1','off2', 'on2', 'off3']\n",
    "        self.dt = 1. / 80\n",
    "        self.pixel_to_mm = 32. / 832\n",
    "        self.width_mov_av_claw = mov_av\n",
    "        self.width_mov_av_speed = mov_av\n",
    "        \n",
    "        self.include_stage_and_update_data()\n",
    "        \n",
    "        self.replicates_MDN_sorted = self.prepare_data(self.data_MDN)\n",
    "        self.replicates_SS_sorted = self.prepare_data(self.data_SS)\n",
    "        self.replicates_PR_sorted = self.prepare_data(self.data_PR)\n",
    "        \n",
    "        \n",
    "    def include_stage_and_update_data(self, off0 = True, on0  = True, off1  = True, on1  = True, off2  = True, on2  = True, off3  = True):\n",
    "        self.stage_activate = [off0, on0, off1, on1, off2, on2, off3]\n",
    "        \n",
    "        self.replicates_MDN_sorted = self.prepare_data(self.data_MDN)\n",
    "        self.replicates_SS_sorted = self.prepare_data(self.data_SS)\n",
    "        self.replicates_PR_sorted = self.prepare_data(self.data_PR)\n",
    "    \n",
    "    def load_data(self):\n",
    "        path_MDN = 'data/MDN/U3_f'\n",
    "        path_SS = 'data/SS01540/U3_f'\n",
    "        path_PR = 'data/PR/U3_f'\n",
    "        with open(path_MDN + '/MDN_U3_f_trackingData.pkl', 'rb') as f: \n",
    "            self.data_MDN = pickle.load(f).reset_index()\n",
    "        with open(path_SS + '/SS01540_U3_f_trackingData.pkl', 'rb') as f: \n",
    "            self.data_SS = pickle.load(f).reset_index()\n",
    "        with open(path_PR + '/PR_U3_f_trackingData.pkl', 'rb') as f: \n",
    "            self.data_PR = pickle.load(f).reset_index()\n",
    "            \n",
    "    def prepare_data(self, data_raw):\n",
    "        replicates_raw_sorted = []\n",
    "        replicates = [data_raw[data_raw['replicate'] == i] for i in range(1, 13)]\n",
    "        for replicate in replicates:\n",
    "            stage_sorted = pd.DataFrame([])\n",
    "            for stage, stage_is_included in zip(self.stage_name, self.stage_activate):\n",
    "                if stage_is_included:\n",
    "                    stage_sorted = stage_sorted.append(replicate[replicate['exp_stage'] == stage], ignore_index = True)\n",
    "            stage_sorted = stage_sorted.reset_index()\n",
    "            replicates_raw_sorted.append(stage_sorted)\n",
    "        return replicates_raw_sorted\n"
   ]
  },
  {
   "cell_type": "markdown",
   "metadata": {},
   "source": [
    "## Class Fly"
   ]
  },
  {
   "cell_type": "code",
   "execution_count": null,
   "metadata": {},
   "outputs": [],
   "source": [
    "class Fly:\n",
    "    def __init__(self, exp, id_):\n",
    "        self.id = id_\n",
    "        \n",
    "        self.replicates_nb_MDN = exp.data_MDN[exp.data_MDN['fly'] == id_]['replicate'].unique()\n",
    "        self.replicates_nb_SS = exp.data_SS[exp.data_SS['fly'] == id_]['replicate'].unique()\n",
    "        self.replicates_nb_PR = exp.data_PR[exp.data_PR['fly'] == id_]['replicate'].unique()\n",
    "        \n",
    "        self.replicates_MDN = [exp.replicates_MDN_sorted[i-1] for i in self.replicates_nb_MDN]\n",
    "        self.replicates_SS = [exp.replicates_SS_sorted[i-1] for i in self.replicates_nb_SS]\n",
    "        self.replicates_PR = [exp.replicates_PR_sorted[i-1] for i in self.replicates_nb_PR]\n",
    "        \n",
    "        self.compute_pos_and_speed(exp)\n",
    "        \n",
    "        self.claws_name = ['LFclaw', 'LMclaw', 'LHclaw', 'RFclaw', 'RMclaw', 'RHclaw']\n",
    "        self.compute_claws(exp)\n",
    "        \n",
    "    def compute_pos_and_speed(self, exp, moving_average = False):\n",
    "        self.positions_MDN = self.compute_position(self.replicates_MDN)\n",
    "        self.positions_SS = self.compute_position(self.replicates_SS)\n",
    "        self.positions_PR = self.compute_position(self.replicates_PR)\n",
    "        \n",
    "        self.speeds_MDN = self.compute_speed(self.replicates_MDN, exp, moving_average)\n",
    "        self.speeds_SS = self.compute_speed(self.replicates_SS, exp, moving_average)\n",
    "        self.speeds_PR = self.compute_speed(self.replicates_PR, exp, moving_average)\n",
    "    \n",
    "    def compute_claws(self, exp, moving_average = False):\n",
    "        self.positions_claws_MDN = self.compute_position_claws(self.replicates_MDN, exp, moving_average)\n",
    "        self.positions_claws_SS = self.compute_position_claws(self.replicates_SS, exp, moving_average)\n",
    "        self.positions_claws_PR = self.compute_position_claws(self.replicates_PR, exp, moving_average)\n",
    "        \n",
    "    def compute_position(self, replicates):\n",
    "        return [[replicate['center','pos' + ax] for ax in ['x', 'y']] for replicate in replicates]\n",
    "    \n",
    "    def compute_speed(self, replicates, exp, moving_average = False):\n",
    "        self.width_mov_av_speed = exp.width_mov_av_speed\n",
    "        self.moving_average_speed = moving_average\n",
    "        positions = [[self.sub_to_itself(replicate['center','pos' + ax]) for ax in ['x', 'y']] for replicate in replicates]\n",
    "        fly_orientations = [replicate['center','orientation'] for replicate in replicates]\n",
    "        \n",
    "        speed_magnitudes = [np.sqrt(pos[0]**2 + pos[1]**2) * exp.pixel_to_mm / exp.dt for pos in positions]\n",
    "        speed_angles = [(np.arctan2(pos[0], -pos[1]) * 180 / np.pi + 360) % 360  for pos in positions]\n",
    "        angles = [(speed_angle - fly_orientation + 180) % 360 - 180 for speed_angle, fly_orientation in zip(speed_angles, fly_orientations)]\n",
    "\n",
    "        if self.moving_average_speed:\n",
    "            ma_filter = np.ones(self.width_mov_av_speed) / self.width_mov_av_speed\n",
    "            speed_magnitudes = [np.convolve(speed_magnitude, ma_filter, 'same') for speed_magnitude in speed_magnitudes]\n",
    "            projection_ratio = [np.convolve(np.cos(angle * np.pi/180), ma_filter, 'same') for angle in angles]\n",
    "            return [ratio * speed_magnitude for ratio, speed_magnitude in zip(projection_ratio, speed_magnitudes)]\n",
    "        \n",
    "        return [np.cos(angle * np.pi/180) * speed_magnitude for angle, speed_magnitude in zip(angles, speed_magnitudes)]\n",
    "\n",
    "    \n",
    "    def compute_position_claws(self, replicates, exp, moving_average = False):\n",
    "        self.width_mov_av_claw = exp.width_mov_av_claw\n",
    "        self.moving_average_claw = moving_average\n",
    "        if moving_average:\n",
    "            ma_filter = np.ones(self.width_mov_av_claw) / self.width_mov_av_claw\n",
    "            return [[[np.convolve(replicate[claws, ax], ma_filter, 'same') for ax in ['x', 'y']] for claws in self.claws_name] for replicate in replicates]\n",
    "        return [[[replicate[claws, ax] for ax in ['x', 'y']] for claws in self.claws_name] for replicate in replicates]\n",
    "    \n",
    "    \n",
    "    def sub_to_itself(self, data_frame):\n",
    "        return data_frame.subtract(data_frame.copy().shift())\n",
    "    \n",
    "    def plot_positions(self, MDN = False, SS = False, PR = False):\n",
    "        if MDN:\n",
    "            plt.figure(figsize=(40, 10))\n",
    "            plt.suptitle('Position (MDN data)', fontsize=32)\n",
    "            for i, replicate_nb in zip(range(len(self.replicates_nb_MDN)), self.replicates_nb_MDN):\n",
    "                plt.subplot(1, len(self.replicates_nb_MDN), i + 1) \n",
    "                plt.plot(self.positions_MDN[i][0], self.positions_MDN[i][1], color= 'r')\n",
    "                plt.xlim(0, 832)\n",
    "                plt.ylim(0, 832)\n",
    "                plt.gca().invert_yaxis()\n",
    "                plt.xlabel('X-axis')\n",
    "                plt.ylabel('Y-axis')\n",
    "                plt.title('Fly {}: replicate {}'.format(self.id,  replicate_nb), fontsize=16)\n",
    "            plt.show()\n",
    "        if SS:\n",
    "            plt.figure(figsize=(40, 10))\n",
    "            plt.suptitle('Position (SS data)', fontsize=32)\n",
    "            for i, replicate_nb in zip(range(len(self.replicates_nb_SS)), self.replicates_nb_SS):\n",
    "                plt.subplot(1, len(self.replicates_nb_SS), i + 1) \n",
    "                plt.plot(self.positions_SS[i][0], self.positions_SS[i][1], color= 'g')\n",
    "                plt.xlim(0, 832)\n",
    "                plt.ylim(0, 832)\n",
    "                plt.gca().invert_yaxis()\n",
    "                plt.xlabel('X-axis')\n",
    "                plt.ylabel('Y-axis')\n",
    "                plt.title('Fly {}: replicate {}'.format(self.id,  replicate_nb), fontsize=16)\n",
    "            plt.show()\n",
    "        if PR:\n",
    "            plt.figure(figsize=(40, 10))\n",
    "            plt.suptitle('Position (PR data)', fontsize=32)\n",
    "            for i, replicate_nb in zip(range(len(self.replicates_nb_PR)), self.replicates_nb_PR):\n",
    "                plt.subplot(1, len(self.replicates_nb_PR), i + 1) \n",
    "                plt.plot(self.positions_PR[i][0], self.positions_PR[i][1], color= 'b')\n",
    "                plt.xlim(0, 832)\n",
    "                plt.ylim(0, 832)\n",
    "                plt.gca().invert_yaxis()\n",
    "                plt.xlabel('X-axis')\n",
    "                plt.ylabel('Y-axis')\n",
    "                plt.title('Fly {}: replicate {}'.format(self.id,  replicate_nb), fontsize=16)\n",
    "            plt.show()\n",
    "            \n",
    "    def plot_speeds(self, MDN = False, SS = False, PR = False, display_background = False):\n",
    "        if MDN:\n",
    "            plt.figure(figsize=(40, 10))\n",
    "            plt.suptitle('Forward/Backward Speed (MDN data)', fontsize=32)\n",
    "            for i, replicate_nb in zip(range(len(self.replicates_nb_MDN)), self.replicates_nb_MDN):\n",
    "                plt.subplot(1, len(self.replicates_nb_MDN), i + 1) \n",
    "                plt.plot(range(self.speeds_MDN[i].shape[0]), self.speeds_MDN[i], color= 'r')\n",
    "                plt.xlabel('Frame number')\n",
    "                plt.ylabel('Speed (Fly longitudinal axis)')\n",
    "                plt.title('Fly {}: replicate {} - moving average width : {}'.format(self.id,  replicate_nb, self.width_mov_av_speed if self.moving_average_speed else 'None'), fontsize=16)\n",
    "                if display_background:\n",
    "                    self.color_background(plt.gca(), self.replicates_MDN[i]['exp_stage'])\n",
    "                plt.legend()\n",
    "            plt.show()\n",
    "        if SS:\n",
    "            plt.figure(figsize=(40, 10))\n",
    "            plt.suptitle('Forward/Backward Speed (SS data)', fontsize=32)\n",
    "            for i, replicate_nb in zip(range(len(self.replicates_nb_SS)), self.replicates_nb_SS):\n",
    "                plt.subplot(1, len(self.replicates_nb_SS), i + 1) \n",
    "                plt.plot(range(self.speeds_SS[i].shape[0]), self.speeds_SS[i], color= 'g')\n",
    "                plt.xlabel('Frame number')\n",
    "                plt.ylabel('Speed (Fly longitudinal axis)')\n",
    "                plt.title('Fly {}: replicate {} - moving average width : {}'.format(self.id,  replicate_nb, self.width_mov_av_speed if self.moving_average_speed else 'None'), fontsize=16)\n",
    "                if display_background:\n",
    "                    self.color_background(plt.gca(), self.replicates_SS[i]['exp_stage'])\n",
    "                plt.legend()\n",
    "            plt.show()\n",
    "        if PR:\n",
    "            plt.figure(figsize=(40, 10))\n",
    "            plt.suptitle('Forward/Backward Speed (PR data)', fontsize=32)\n",
    "            for i, replicate_nb in zip(range(len(self.replicates_nb_PR)), self.replicates_nb_PR):\n",
    "                plt.subplot(1, len(self.replicates_nb_PR), i + 1) \n",
    "                plt.plot(range(self.speeds_PR[i].shape[0]), self.speeds_PR[i], color= 'b')\n",
    "                plt.xlabel('Frame number')\n",
    "                plt.ylabel('Speed (Fly longitudinal axis)')\n",
    "                plt.title('Fly {}: replicate {} - moving average width : {}'.format(self.id,  replicate_nb, self.width_mov_av_speed if self.moving_average_speed else 'None'), fontsize=16)\n",
    "                if display_background:\n",
    "                    self.color_background(plt.gca(), self.replicates_PR[i]['exp_stage'])\n",
    "                plt.legend()\n",
    "            plt.show()\n",
    "            \n",
    "    def plot_claws(self, MDN = False, SS = False, PR = False, display_background = False):\n",
    "        if MDN:\n",
    "            plt.figure(figsize=(40, 20))\n",
    "            plt.suptitle('Claws position (MDN data)', fontsize=32)\n",
    "            for i, replicate_nb in zip(range(len(self.replicates_nb_MDN)), self.replicates_nb_MDN):\n",
    "                plt.subplot(2, len(self.replicates_nb_MDN), i + 1) \n",
    "                for j in range(len(self.claws_name)):\n",
    "                    plt.plot(range(self.positions_claws_MDN[i][j][1].shape[0]), self.positions_claws_MDN[i][j][1], label=self.claws_name[j])\n",
    "                plt.gca().invert_yaxis()\n",
    "                plt.xlabel('Frame number')\n",
    "                plt.ylabel('Claws position (y axis)')\n",
    "                plt.title('Fly {}: replicate {} - moving average width : {} (Y-axis)'.format(self.id,  replicate_nb, self.width_mov_av_claw if self.moving_average_claw else 'None'), fontsize=16)\n",
    "                if display_background:\n",
    "                    self.color_background(plt.gca(), self.replicates_MDN[i]['exp_stage'])\n",
    "                plt.legend()\n",
    "                \n",
    "                plt.subplot(2, len(self.replicates_nb_MDN), i + len(self.replicates_nb_MDN) + 1) \n",
    "                for j in range(len(self.claws_name)):\n",
    "                    plt.plot(self.positions_claws_MDN[i][j][0], range(self.positions_claws_MDN[i][j][0].shape[0]), label=self.claws_name[j])\n",
    "                plt.gca().invert_yaxis()\n",
    "                plt.xlabel('Claws position (x axis)')\n",
    "                plt.ylabel('Frame number')\n",
    "                plt.title('Fly {}: replicate {} - moving average width : {} (X-axis)'.format(self.id,  replicate_nb, self.width_mov_av_claw if self.moving_average_claw else 'None'), fontsize=16)\n",
    "                if display_background:\n",
    "                    self.color_background(plt.gca(), self.replicates_MDN[i]['exp_stage'], False)\n",
    "                plt.legend()\n",
    "            plt.show()\n",
    "        if SS:\n",
    "            plt.figure(figsize=(40, 20))\n",
    "            plt.suptitle('Claws position (SS data)', fontsize=32)\n",
    "            for i, replicate_nb in zip(range(len(self.replicates_nb_SS)), self.replicates_nb_SS):\n",
    "                plt.subplot(2, len(self.replicates_nb_SS), i + 1) \n",
    "                for j in range(len(self.claws_name)):\n",
    "                    plt.plot(range(self.positions_claws_SS[i][j][1].shape[0]), self.positions_claws_SS[i][j][1], label=self.claws_name[j])\n",
    "                plt.gca().invert_yaxis()\n",
    "                plt.xlabel('Frame number')\n",
    "                plt.ylabel('Claws position (y axis)')\n",
    "                plt.title('Fly {}: replicate {} - moving average width : {} (Y-axis)'.format(self.id,  replicate_nb, self.width_mov_av_claw if self.moving_average_claw else 'None'), fontsize=16)\n",
    "                if display_background:\n",
    "                    self.color_background(plt.gca(), self.replicates_SS[i]['exp_stage'])\n",
    "                plt.legend()\n",
    "                \n",
    "                plt.subplot(2, len(self.replicates_nb_SS), i + len(self.replicates_nb_SS) + 1) \n",
    "                for j in range(len(self.claws_name)):\n",
    "                    plt.plot(self.positions_claws_SS[i][j][0], range(self.positions_claws_SS[i][j][0].shape[0]), label=self.claws_name[j])\n",
    "                plt.gca().invert_yaxis()\n",
    "                plt.xlabel('Claws position (x axis)')\n",
    "                plt.ylabel('Frame number')\n",
    "                plt.title('Fly {}: replicate {} - moving average width : {} (X-axis)'.format(self.id,  replicate_nb, self.width_mov_av_claw if self.moving_average_claw else 'None'), fontsize=16)\n",
    "                if display_background:\n",
    "                    self.color_background(plt.gca(), self.replicates_SS[i]['exp_stage'], False)\n",
    "                plt.legend()\n",
    "            plt.show()\n",
    "        if PR:\n",
    "            plt.figure(figsize=(40, 20))\n",
    "            plt.suptitle('Claws position (PR data)', fontsize=32)\n",
    "            for i, replicate_nb in zip(range(len(self.replicates_nb_PR)), self.replicates_nb_PR):\n",
    "                plt.subplot(2, len(self.replicates_nb_PR), i + 1) \n",
    "                for j in range(len(self.claws_name)):\n",
    "                    plt.plot(range(self.positions_claws_PR[i][j][1].shape[0]), self.positions_claws_PR[i][j][1], label=self.claws_name[j])\n",
    "                plt.gca().invert_yaxis()\n",
    "                plt.xlabel('Frame number')\n",
    "                plt.ylabel('Claws position (y axis)')\n",
    "                plt.title('Fly {}: replicate {} - moving average width : {} (Y-axis)'.format(self.id,  replicate_nb, self.width_mov_av_claw if self.moving_average_claw else 'None'), fontsize=16)\n",
    "                plt.legend(self.claws_name)\n",
    "                if display_background:\n",
    "                    self.color_background(plt.gca(), self.replicates_PR[i]['exp_stage'])\n",
    "                plt.legend()\n",
    "                \n",
    "                plt.subplot(2, len(self.replicates_nb_PR), i + len(self.replicates_nb_PR) + 1) \n",
    "                for j in range(len(self.claws_name)):\n",
    "                    plt.plot(self.positions_claws_PR[i][j][0], range(self.positions_claws_PR[i][j][0].shape[0]), label=self.claws_name[j])\n",
    "                plt.gca().invert_yaxis()\n",
    "                plt.xlabel('Claws position (x axis)')\n",
    "                plt.ylabel('Frame number')\n",
    "                plt.title('Fly {}: replicate {} - moving average width : {} (X-axis)'.format(self.id,  replicate_nb, self.width_mov_av_claw if self.moving_average_claw else 'None'), fontsize=16)\n",
    "                if display_background:\n",
    "                    self.color_background(plt.gca(), self.replicates_PR[i]['exp_stage'], False)\n",
    "                plt.legend()\n",
    "            plt.show()\n",
    "            \n",
    "    def color_background(self, ax, stage, vertical = True):\n",
    "        label_on = 0\n",
    "        label_off = 0\n",
    "        for i in range(len(stage)):\n",
    "            if stage[i].startswith('on'):\n",
    "                if vertical:\n",
    "                    ax.axvspan(i, i+1, facecolor='g', alpha=0.2, label =  \"_\"*label_on + \"Light on\")\n",
    "                else:\n",
    "                    ax.axhspan(i, i+1, facecolor='g', alpha=0.2, label =  \"_\"*label_on + \"Light on\")\n",
    "                label_on += 1\n",
    "            else:\n",
    "                if vertical:\n",
    "                    ax.axvspan(i, i+1, facecolor='r', alpha=0.2, label =  \"_\"*label_off + \"Light off\")\n",
    "                else:\n",
    "                    ax.axhspan(i, i+1, facecolor='r', alpha=0.2, label =  \"_\"*label_off + \"Light off\")\n",
    "                label_off += 1\n",
    "            "
   ]
  },
  {
   "cell_type": "markdown",
   "metadata": {},
   "source": [
    "## Data analysis"
   ]
  },
  {
   "cell_type": "code",
   "execution_count": null,
   "metadata": {},
   "outputs": [],
   "source": [
    "# Create experiment and load data \n",
    "exp = Experiment(mov_av = 30)"
   ]
  },
  {
   "cell_type": "code",
   "execution_count": null,
   "metadata": {},
   "outputs": [],
   "source": [
    "# Include only stage with true value and update data\n",
    "exp.include_stage_and_update_data(off0 = True, on0 = True, \\\n",
    "                                  off1 = True, on1 = True, \\\n",
    "                                  off2 = True, on2 = True, \\\n",
    "                                  off3 = True)"
   ]
  },
  {
   "cell_type": "code",
   "execution_count": null,
   "metadata": {
    "scrolled": false
   },
   "outputs": [],
   "source": [
    "# Create differents flies with given id\n",
    "fly0 = Fly(exp, id_ = 0)\n",
    "fly1 = Fly(exp, id_ = 1)\n",
    "fly2 = Fly(exp, id_ = 2)"
   ]
  },
  {
   "cell_type": "code",
   "execution_count": null,
   "metadata": {},
   "outputs": [],
   "source": [
    "#exp.replicates_MDN_sorted[0].head()\n"
   ]
  },
  {
   "cell_type": "markdown",
   "metadata": {},
   "source": [
    "## 2. Question 1a"
   ]
  },
  {
   "cell_type": "markdown",
   "metadata": {},
   "source": [
    "#### i. MDN data"
   ]
  },
  {
   "cell_type": "code",
   "execution_count": null,
   "metadata": {},
   "outputs": [],
   "source": [
    "fly0.plot_positions(MDN = True)\n",
    "fly1.plot_positions(MDN = True)\n",
    "fly2.plot_positions(MDN = True)"
   ]
  },
  {
   "cell_type": "markdown",
   "metadata": {},
   "source": [
    "#### ii. SS data"
   ]
  },
  {
   "cell_type": "code",
   "execution_count": null,
   "metadata": {},
   "outputs": [],
   "source": [
    "fly0.plot_positions(SS = True)\n",
    "fly1.plot_positions(SS = True)\n",
    "fly2.plot_positions(SS = True)"
   ]
  },
  {
   "cell_type": "markdown",
   "metadata": {},
   "source": [
    "#### iii. PR data"
   ]
  },
  {
   "cell_type": "code",
   "execution_count": null,
   "metadata": {},
   "outputs": [],
   "source": [
    "fly0.plot_positions(PR = True)\n",
    "fly1.plot_positions(PR = True)\n",
    "fly2.plot_positions(PR = True)"
   ]
  },
  {
   "cell_type": "markdown",
   "metadata": {},
   "source": [
    "## 2. Question 1b"
   ]
  },
  {
   "cell_type": "markdown",
   "metadata": {},
   "source": [
    "the forward / backward speed over time"
   ]
  },
  {
   "cell_type": "code",
   "execution_count": null,
   "metadata": {},
   "outputs": [],
   "source": [
    "moving_average = True\n",
    "exp.width_mov_av_speed = 20\n",
    "display_background = True # Set display_background to False to increase computing speed"
   ]
  },
  {
   "cell_type": "code",
   "execution_count": null,
   "metadata": {},
   "outputs": [],
   "source": [
    "fly0.compute_pos_and_speed(exp, moving_average = moving_average)\n",
    "fly1.compute_pos_and_speed(exp, moving_average = moving_average)\n",
    "fly2.compute_pos_and_speed(exp, moving_average = moving_average)"
   ]
  },
  {
   "cell_type": "markdown",
   "metadata": {},
   "source": [
    "#### i. MDN data"
   ]
  },
  {
   "cell_type": "code",
   "execution_count": null,
   "metadata": {},
   "outputs": [],
   "source": [
    "fly0.plot_speeds(MDN = True, display_background = display_background)\n",
    "fly1.plot_speeds(MDN = True, display_background = display_background)\n",
    "fly2.plot_speeds(MDN = True, display_background = display_background)"
   ]
  },
  {
   "cell_type": "markdown",
   "metadata": {},
   "source": [
    "#### ii. SS data"
   ]
  },
  {
   "cell_type": "code",
   "execution_count": null,
   "metadata": {},
   "outputs": [],
   "source": [
    "fly0.plot_speeds(SS = True, display_background = display_background)\n",
    "fly1.plot_speeds(SS = True, display_background = display_background)\n",
    "fly2.plot_speeds(SS = True, display_background = display_background)"
   ]
  },
  {
   "cell_type": "markdown",
   "metadata": {},
   "source": [
    "#### iii. PR data"
   ]
  },
  {
   "cell_type": "code",
   "execution_count": null,
   "metadata": {},
   "outputs": [],
   "source": [
    "fly0.plot_speeds(PR = True, display_background = display_background)\n",
    "fly1.plot_speeds(PR = True, display_background = display_background)\n",
    "fly2.plot_speeds(PR = True, display_background = display_background)"
   ]
  },
  {
   "cell_type": "markdown",
   "metadata": {},
   "source": [
    "## Question 2.a"
   ]
  },
  {
   "cell_type": "code",
   "execution_count": null,
   "metadata": {},
   "outputs": [],
   "source": [
    "moving_average = True\n",
    "exp.width_mov_av_claw = 20\n",
    "display_background = True # Set display_background to False to increase computing speed"
   ]
  },
  {
   "cell_type": "code",
   "execution_count": null,
   "metadata": {},
   "outputs": [],
   "source": [
    "fly0.compute_claws(exp, moving_average = moving_average)\n",
    "fly1.compute_claws(exp, moving_average = moving_average)\n",
    "fly2.compute_claws(exp, moving_average = moving_average)"
   ]
  },
  {
   "cell_type": "code",
   "execution_count": null,
   "metadata": {},
   "outputs": [],
   "source": [
    "fly0.plot_claws(MDN = True, display_background = display_background)\n",
    "fly1.plot_claws(MDN = True, display_background = display_background)\n",
    "fly2.plot_claws(MDN = True, display_background = display_background)"
   ]
  },
  {
   "cell_type": "code",
   "execution_count": null,
   "metadata": {
    "scrolled": false
   },
   "outputs": [],
   "source": [
    "fly0.plot_claws(SS = True, display_background = display_background)\n",
    "fly1.plot_claws(SS = True, display_background = display_background)\n",
    "fly2.plot_claws(SS = True, display_background = display_background)"
   ]
  },
  {
   "cell_type": "code",
   "execution_count": null,
   "metadata": {},
   "outputs": [],
   "source": [
    "fly0.plot_claws(PR = True, display_background = display_background)\n",
    "fly1.plot_claws(PR = True, display_background = display_background)\n",
    "fly2.plot_claws(PR = True, display_background = display_background)"
   ]
  },
  {
   "cell_type": "markdown",
   "metadata": {},
   "source": [
    "## Clustering "
   ]
  },
  {
   "cell_type": "code",
   "execution_count": null,
   "metadata": {},
   "outputs": [],
   "source": [
    "exp.data_MDN.head()"
   ]
  },
  {
   "cell_type": "code",
   "execution_count": null,
   "metadata": {},
   "outputs": [],
   "source": [
    "data_clustering_MDN = exp.data_MDN[['LFclaw', 'LMclaw', 'LHclaw', 'RFclaw', 'RMclaw', 'RHclaw']]"
   ]
  },
  {
   "cell_type": "code",
   "execution_count": null,
   "metadata": {},
   "outputs": [],
   "source": [
    "fly0.replicates_MDN[0]['exp_stage']"
   ]
  },
  {
   "cell_type": "code",
   "execution_count": null,
   "metadata": {},
   "outputs": [],
   "source": []
  }
 ],
 "metadata": {
  "kernelspec": {
   "display_name": "Python 3",
   "language": "python",
   "name": "python3"
  },
  "language_info": {
   "codemirror_mode": {
    "name": "ipython",
    "version": 3
   },
   "file_extension": ".py",
   "mimetype": "text/x-python",
   "name": "python",
   "nbconvert_exporter": "python",
   "pygments_lexer": "ipython3",
   "version": "3.7.6"
  }
 },
 "nbformat": 4,
 "nbformat_minor": 4
}

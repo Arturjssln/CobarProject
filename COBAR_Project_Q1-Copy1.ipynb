{
 "cells": [
  {
   "cell_type": "markdown",
   "metadata": {},
   "source": [
    "# COBAR Project \n",
    "\n",
    "Authors: Célia Benquet, Artur Jesslen & Léa Schmidt"
   ]
  },
  {
   "cell_type": "markdown",
   "metadata": {},
   "source": [
    "## Import library"
   ]
  },
  {
   "cell_type": "code",
   "execution_count": null,
   "metadata": {},
   "outputs": [],
   "source": [
    "import pickle\n",
    "import matplotlib.pyplot as plt\n",
    "import pickle\n",
    "import numpy as np\n",
    "import pandas as pd \n",
    "import seaborn as sns\n",
    "from scipy import signal"
   ]
  },
  {
   "cell_type": "markdown",
   "metadata": {},
   "source": [
    "## Class experiment"
   ]
  },
  {
   "cell_type": "code",
   "execution_count": null,
   "metadata": {},
   "outputs": [],
   "source": [
    "class Experiment:\n",
    "    def __init__(self, mov_av = 30):\n",
    "        self.load_data()\n",
    "        self.stage_name = ['off0', 'on0', 'off1', 'on1','off2', 'on2', 'off3']\n",
    "        self.dt = 1. / 80\n",
    "        self.pixel_to_mm = 32. / 832\n",
    "        self.width_mov_av_claw = mov_av\n",
    "        self.width_mov_av_speed = mov_av\n",
    "        \n",
    "        self.include_stage_and_update_data()\n",
    "        \n",
    "        self.replicates_MDN_sorted = self.prepare_data(self.data_MDN)\n",
    "        self.replicates_SS_sorted = self.prepare_data(self.data_SS)\n",
    "        self.replicates_PR_sorted = self.prepare_data(self.data_PR)\n",
    "        \n",
    "        self.flies = []\n",
    "        \n",
    "    def add_fly(self, fly):\n",
    "        self.flies.append(fly)\n",
    "        \n",
    "    def include_stage_and_update_data(self, off0 = True, on0  = True, off1  = True, on1  = True, off2  = True, on2  = True, off3  = True):\n",
    "        self.stage_activate = [off0, on0, off1, on1, off2, on2, off3]\n",
    "        \n",
    "        self.replicates_MDN_sorted = self.prepare_data(self.data_MDN)\n",
    "        self.replicates_SS_sorted = self.prepare_data(self.data_SS)\n",
    "        self.replicates_PR_sorted = self.prepare_data(self.data_PR)\n",
    "    \n",
    "    def load_data(self):\n",
    "        path_MDN = 'data/MDN/U3_f'\n",
    "        path_SS = 'data/SS01540/U3_f'\n",
    "        path_PR = 'data/PR/U3_f'\n",
    "        with open(path_MDN + '/MDN_U3_f_trackingData.pkl', 'rb') as f: \n",
    "            self.data_MDN = pickle.load(f).reset_index()\n",
    "        with open(path_SS + '/SS01540_U3_f_trackingData.pkl', 'rb') as f: \n",
    "            self.data_SS = pickle.load(f).reset_index()\n",
    "        with open(path_PR + '/PR_U3_f_trackingData.pkl', 'rb') as f: \n",
    "            self.data_PR = pickle.load(f).reset_index()\n",
    "            \n",
    "    def prepare_data(self, data_raw):\n",
    "        replicates_raw_sorted = []\n",
    "        replicates = [data_raw[data_raw['replicate'] == i] for i in range(1, 13)]\n",
    "        for replicate in replicates:\n",
    "            stage_sorted = pd.DataFrame([])\n",
    "            for stage, stage_is_included in zip(self.stage_name, self.stage_activate):\n",
    "                if stage_is_included:\n",
    "                    stage_sorted = stage_sorted.append(replicate[replicate['exp_stage'] == stage], ignore_index = True)\n",
    "            stage_sorted = stage_sorted.reset_index()\n",
    "            replicates_raw_sorted.append(stage_sorted)\n",
    "        return replicates_raw_sorted\n",
    "\n",
    "    def plot_positions(self, fly = None, MDN = False, SS = False, PR = False):\n",
    "        if fly is None:\n",
    "            for fly_ in self.flies:\n",
    "                fly_.plot_positions(MDN, SS, PR)\n",
    "        else:\n",
    "            for fly_nb in fly:\n",
    "                self.flies[fly_nb].plot_positions(MDN, SS, PR)\n",
    "                \n",
    "    def compute_pos_and_speed(self, moving_average = False):\n",
    "        self.speeds_MDN = np.array([[]]) \n",
    "        self.speeds_SS = np.array([[]]) \n",
    "        self.speeds_PR = np.array([[]]) \n",
    "        for fly_ in self.flies:\n",
    "            all_MDN, all_SS, all_PR = fly_.compute_pos_and_speed(self, moving_average)\n",
    "            self.speeds_MDN = np.concatenate((self.speeds_MDN, all_MDN), axis=0) if self.speeds_MDN.size else all_MDN\n",
    "            self.speeds_SS = np.concatenate((self.speeds_SS, all_SS), axis=0) if self.speeds_SS.size else all_SS\n",
    "            self.speeds_PR = np.concatenate((self.speeds_PR, all_PR), axis=0) if self.speeds_PR.size else all_PR\n",
    "        self.speeds_MDN = np.delete(self.speeds_MDN, (0), axis=0)\n",
    "        self.speeds_SS = np.delete(self.speeds_SS, (0), axis=0)\n",
    "        self.speeds_PR = np.delete(self.speeds_PR, (0), axis=0)\n",
    "            \n",
    "    def compute_claws(self, moving_average = False):\n",
    "        for fly_ in self.flies:\n",
    "            fly_.compute_claws(self, moving_average)\n",
    "            \n",
    "    def plot_speeds(self, fly = None, MDN = False, SS = False, PR = False, display_background = True):\n",
    "        if fly is None:\n",
    "            for fly_ in self.flies:\n",
    "                fly_.plot_speeds(MDN, SS, PR, display_background)\n",
    "        else:\n",
    "            for fly_nb in fly:\n",
    "                self.flies[fly_nb].plot_speeds(MDN, SS, PR, display_background)\n",
    "                \n",
    "    def plot_claws(self, fly = None, MDN = False, SS = False, PR = False, display_background = False):\n",
    "        if fly is None:\n",
    "            for fly_ in self.flies:\n",
    "                fly_.plot_claws(MDN, SS, PR, display_background)\n",
    "        else:\n",
    "            for fly_nb in fly:\n",
    "                self.flies[fly_nb].plot_claws(MDN, SS, PR, display_background)\n",
    "        "
   ]
  },
  {
   "cell_type": "markdown",
   "metadata": {},
   "source": [
    "## Class Fly"
   ]
  },
  {
   "cell_type": "code",
   "execution_count": null,
   "metadata": {},
   "outputs": [],
   "source": [
    "class Fly:\n",
    "    def __init__(self, exp, id_):\n",
    "        self.id = id_\n",
    "        \n",
    "        self.replicates_nb_MDN = exp.data_MDN[exp.data_MDN['fly'] == id_]['replicate'].unique()\n",
    "        self.replicates_nb_SS = exp.data_SS[exp.data_SS['fly'] == id_]['replicate'].unique()\n",
    "        self.replicates_nb_PR = exp.data_PR[exp.data_PR['fly'] == id_]['replicate'].unique()\n",
    "        \n",
    "        self.replicates_MDN = [exp.replicates_MDN_sorted[i-1] for i in self.replicates_nb_MDN]\n",
    "        self.replicates_SS = [exp.replicates_SS_sorted[i-1] for i in self.replicates_nb_SS]\n",
    "        self.replicates_PR = [exp.replicates_PR_sorted[i-1] for i in self.replicates_nb_PR]\n",
    "        \n",
    "        self.compute_pos_and_speed(exp)\n",
    "        \n",
    "        self.claws_name = ['LFclaw', 'LMclaw', 'LHclaw', 'RFclaw', 'RMclaw', 'RHclaw']\n",
    "        #self.claws_name = ['LFtibiaTarsus', 'LMtibiaTarsus', 'LHtibiaTarsus', 'RFtibiaTarsus', 'RMtibiaTarsus', 'RHtibiaTarsus']\n",
    "        self.compute_claws(exp)\n",
    "        \n",
    "    def compute_pos_and_speed(self, exp, moving_average = False):\n",
    "        self.positions_MDN = self.compute_position(self.replicates_MDN)\n",
    "        self.positions_SS = self.compute_position(self.replicates_SS)\n",
    "        self.positions_PR = self.compute_position(self.replicates_PR)\n",
    "        \n",
    "        self.speeds_MDN = self.compute_speed(self.replicates_MDN, exp, moving_average)\n",
    "        self.speeds_SS = self.compute_speed(self.replicates_SS, exp, moving_average)\n",
    "        self.speeds_PR = self.compute_speed(self.replicates_PR, exp, moving_average)\n",
    "        \n",
    "        # Used to compute mean and variance\n",
    "        all_speed_MDN = []\n",
    "        all_speed_SS = []\n",
    "        all_speed_PR = []\n",
    "        nb_data_MDN = min([len(data) for data in self.speeds_MDN])\n",
    "        nb_data_PR = min([len(data) for data in self.speeds_PR])\n",
    "        for speed_MDN, speed_PR in zip(self.speeds_MDN, self.speeds_PR):\n",
    "            all_speed_MDN.append(speed_MDN[:nb_data_MDN])\n",
    "            all_speed_PR.append(speed_PR[:nb_data_PR])\n",
    "        nb_data_SS = min([len(data) for data in self.speeds_SS])\n",
    "        for speed_SS in self.speeds_SS:            \n",
    "            all_speed_SS.append(speed_SS[:nb_data_SS])\n",
    "        return (np.asarray(all_speed_MDN), np.asarray(all_speed_SS), np.asarray(all_speed_PR))\n",
    "        \n",
    "        \n",
    "    \n",
    "    def compute_claws(self, exp, moving_average = False):\n",
    "        self.positions_claws_MDN = self.compute_position_claws(self.replicates_MDN, exp, moving_average)\n",
    "        self.positions_claws_SS = self.compute_position_claws(self.replicates_SS, exp, moving_average)\n",
    "        self.positions_claws_PR = self.compute_position_claws(self.replicates_PR, exp, moving_average)\n",
    "        \n",
    "    def compute_position(self, replicates):\n",
    "        return [[replicate['center','pos' + ax] for ax in ['x', 'y']] for replicate in replicates]\n",
    "    \n",
    "    def compute_speed(self, replicates, exp, moving_average = False):\n",
    "        self.width_mov_av_speed = exp.width_mov_av_speed\n",
    "        self.moving_average_speed = moving_average\n",
    "        positions = [[self.sub_to_itself(replicate['center','pos' + ax]) for ax in ['x', 'y']] for replicate in replicates]\n",
    "        fly_orientations = [replicate['center','orientation'] for replicate in replicates]\n",
    "        \n",
    "        speed_magnitudes = [np.sqrt(pos[0]**2 + pos[1]**2) * exp.pixel_to_mm / exp.dt for pos in positions]\n",
    "        speed_angles = [(np.arctan2(pos[0], -pos[1]) * 180 / np.pi + 360) % 360  for pos in positions]\n",
    "        angles = [(speed_angle - fly_orientation + 180) % 360 - 180 for speed_angle, fly_orientation in zip(speed_angles, fly_orientations)]\n",
    "\n",
    "        if self.moving_average_speed:\n",
    "            ma_filter = np.ones(self.width_mov_av_speed) / self.width_mov_av_speed\n",
    "            speed_magnitudes = [np.convolve(speed_magnitude, ma_filter, 'same') for speed_magnitude in speed_magnitudes]\n",
    "            projection_ratio = [np.convolve(np.cos(angle * np.pi/180), ma_filter, 'same') for angle in angles]\n",
    "            return [ratio * speed_magnitude for ratio, speed_magnitude in zip(projection_ratio, speed_magnitudes)]\n",
    "        \n",
    "        return [np.cos(angle * np.pi/180) * speed_magnitude for angle, speed_magnitude in zip(angles, speed_magnitudes)]\n",
    "\n",
    "    \n",
    "    def compute_position_claws(self, replicates, exp, moving_average = False):\n",
    "        self.width_mov_av_claw = exp.width_mov_av_claw\n",
    "        self.moving_average_claw = moving_average\n",
    "        if moving_average:\n",
    "            ma_filter = np.ones(self.width_mov_av_claw) / self.width_mov_av_claw\n",
    "            return [[[np.convolve(replicate[claws, ax], ma_filter, 'same') for ax in ['x', 'y']] for claws in self.claws_name] for replicate in replicates]\n",
    "        return [[[replicate[claws, ax] for ax in ['x', 'y']] for claws in self.claws_name] for replicate in replicates]\n",
    "    \n",
    "    \n",
    "    def sub_to_itself(self, data_frame):\n",
    "        return data_frame.subtract(data_frame.copy().shift())\n"
   ]
  },
  {
   "cell_type": "markdown",
   "metadata": {},
   "source": [
    "## Data analysis"
   ]
  },
  {
   "cell_type": "code",
   "execution_count": null,
   "metadata": {},
   "outputs": [],
   "source": [
    "# Create experiment and load data \n",
    "exp = Experiment(mov_av = 30)"
   ]
  },
  {
   "cell_type": "code",
   "execution_count": null,
   "metadata": {},
   "outputs": [],
   "source": [
    "# Include only stage with true value and update data\n",
    "exp.include_stage_and_update_data(off0 = True, on0 = True, \\\n",
    "                                  off1 = True, on1 = True, \\\n",
    "                                  off2 = False, on2 = False, \\\n",
    "                                  off3 = False)"
   ]
  },
  {
   "cell_type": "code",
   "execution_count": null,
   "metadata": {
    "scrolled": false
   },
   "outputs": [],
   "source": [
    "# Create differents flies with given id\n",
    "exp.add_fly(Fly(exp, id_ = 0))\n",
    "exp.add_fly(Fly(exp, id_ = 1))\n",
    "exp.add_fly(Fly(exp, id_ = 2))"
   ]
  },
  {
   "cell_type": "code",
   "execution_count": null,
   "metadata": {},
   "outputs": [],
   "source": [
    "#exp.replicates_MDN_sorted[0].head()\n"
   ]
  },
  {
   "cell_type": "markdown",
   "metadata": {},
   "source": [
    "## 2. Question 1a"
   ]
  },
  {
   "cell_type": "markdown",
   "metadata": {},
   "source": [
    "## 2. Question 1b"
   ]
  },
  {
   "cell_type": "markdown",
   "metadata": {},
   "source": [
    "the forward / backward speed over time"
   ]
  },
  {
   "cell_type": "code",
   "execution_count": null,
   "metadata": {},
   "outputs": [],
   "source": [
    "moving_average = True\n",
    "exp.width_mov_av_speed = 100\n",
    "display_background = True "
   ]
  },
  {
   "cell_type": "code",
   "execution_count": null,
   "metadata": {
    "scrolled": true
   },
   "outputs": [],
   "source": [
    "exp.compute_pos_and_speed(moving_average = moving_average)"
   ]
  },
  {
   "cell_type": "code",
   "execution_count": null,
   "metadata": {},
   "outputs": [],
   "source": []
  },
  {
   "cell_type": "markdown",
   "metadata": {},
   "source": [
    "#### i. MDN data"
   ]
  },
  {
   "cell_type": "code",
   "execution_count": null,
   "metadata": {},
   "outputs": [],
   "source": [
    "exp.plot_speeds(fly = [0], MDN = True, display_background = display_background)"
   ]
  },
  {
   "cell_type": "markdown",
   "metadata": {},
   "source": [
    "#### ii. SS data"
   ]
  },
  {
   "cell_type": "code",
   "execution_count": null,
   "metadata": {},
   "outputs": [],
   "source": [
    "exp.plot_speeds(fly = [0], SS = True, display_background = display_background)"
   ]
  },
  {
   "cell_type": "markdown",
   "metadata": {},
   "source": [
    "#### iii. PR data"
   ]
  },
  {
   "cell_type": "code",
   "execution_count": null,
   "metadata": {},
   "outputs": [],
   "source": [
    "exp.plot_speeds(fly = [0], PR = True, display_background = display_background)"
   ]
  },
  {
   "cell_type": "code",
   "execution_count": null,
   "metadata": {},
   "outputs": [],
   "source": []
  },
  {
   "cell_type": "markdown",
   "metadata": {},
   "source": [
    "## Question 2.a"
   ]
  },
  {
   "cell_type": "code",
   "execution_count": null,
   "metadata": {},
   "outputs": [],
   "source": [
    "moving_average = True\n",
    "exp.width_mov_av_claw = 20\n",
    "display_background = True"
   ]
  },
  {
   "cell_type": "code",
   "execution_count": null,
   "metadata": {},
   "outputs": [],
   "source": [
    "exp.compute_claws(moving_average = moving_average)"
   ]
  },
  {
   "cell_type": "code",
   "execution_count": null,
   "metadata": {
    "scrolled": false
   },
   "outputs": [],
   "source": [
    "exp.plot_claws(fly = [0], MDN = True, display_background = display_background)"
   ]
  },
  {
   "cell_type": "code",
   "execution_count": null,
   "metadata": {
    "scrolled": false
   },
   "outputs": [],
   "source": [
    "exp.plot_claws(fly = [0], SS = True, display_background = display_background)"
   ]
  },
  {
   "cell_type": "code",
   "execution_count": null,
   "metadata": {},
   "outputs": [],
   "source": [
    "exp.plot_claws(fly = [0], PR = True, display_background = display_background)"
   ]
  },
  {
   "cell_type": "code",
   "execution_count": null,
   "metadata": {},
   "outputs": [],
   "source": []
  },
  {
   "cell_type": "code",
   "execution_count": null,
   "metadata": {},
   "outputs": [],
   "source": []
  },
  {
   "cell_type": "markdown",
   "metadata": {},
   "source": [
    "## Clustering "
   ]
  },
  {
   "cell_type": "code",
   "execution_count": null,
   "metadata": {},
   "outputs": [],
   "source": [
    "exp.data_MDN.head()"
   ]
  },
  {
   "cell_type": "code",
   "execution_count": null,
   "metadata": {},
   "outputs": [],
   "source": [
    "data_clustering_MDN = exp.data_MDN[['LFclaw', 'LMclaw', 'LHclaw', 'RFclaw', 'RMclaw', 'RHclaw']]"
   ]
  },
  {
   "cell_type": "code",
   "execution_count": null,
   "metadata": {},
   "outputs": [],
   "source": []
  }
 ],
 "metadata": {
  "kernelspec": {
   "display_name": "Python 3",
   "language": "python",
   "name": "python3"
  },
  "language_info": {
   "codemirror_mode": {
    "name": "ipython",
    "version": 3
   },
   "file_extension": ".py",
   "mimetype": "text/x-python",
   "name": "python",
   "nbconvert_exporter": "python",
   "pygments_lexer": "ipython3",
   "version": "3.7.6"
  }
 },
 "nbformat": 4,
 "nbformat_minor": 4
}
